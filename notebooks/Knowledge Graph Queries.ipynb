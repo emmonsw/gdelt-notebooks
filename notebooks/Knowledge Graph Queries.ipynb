{
 "cells": [
  {
   "cell_type": "markdown",
   "metadata": {},
   "source": [
    "# Requirements"
   ]
  },
  {
   "cell_type": "code",
   "execution_count": 1,
   "metadata": {},
   "outputs": [
    {
     "name": "stdout",
     "output_type": "stream",
     "text": [
      "Collecting gdelt\n",
      "  Downloading https://files.pythonhosted.org/packages/65/f9/a3d5111c8f17334b1752c32aedaab0d01ab4324bf26417bd41890d5b25d0/gdelt-0.1.10.6.1-py2.py3-none-any.whl (773kB)\n",
      "Requirement already satisfied: numpy in c:\\users\\jts\\appdata\\local\\continuum\\anaconda3\\lib\\site-packages (from gdelt) (1.16.4)\n",
      "Requirement already satisfied: pandas>=0.20.3 in c:\\users\\jts\\appdata\\local\\continuum\\anaconda3\\lib\\site-packages (from gdelt) (0.24.2)\n",
      "Requirement already satisfied: requests in c:\\users\\jts\\appdata\\local\\continuum\\anaconda3\\lib\\site-packages (from gdelt) (2.22.0)\n",
      "Requirement already satisfied: python-dateutil in c:\\users\\jts\\appdata\\local\\continuum\\anaconda3\\lib\\site-packages (from gdelt) (2.8.0)\n",
      "Requirement already satisfied: pytz>=2011k in c:\\users\\jts\\appdata\\local\\continuum\\anaconda3\\lib\\site-packages (from pandas>=0.20.3->gdelt) (2019.1)\n",
      "Requirement already satisfied: urllib3!=1.25.0,!=1.25.1,<1.26,>=1.21.1 in c:\\users\\jts\\appdata\\local\\continuum\\anaconda3\\lib\\site-packages (from requests->gdelt) (1.24.2)\n",
      "Requirement already satisfied: certifi>=2017.4.17 in c:\\users\\jts\\appdata\\local\\continuum\\anaconda3\\lib\\site-packages (from requests->gdelt) (2019.9.11)\n",
      "Requirement already satisfied: idna<2.9,>=2.5 in c:\\users\\jts\\appdata\\local\\continuum\\anaconda3\\lib\\site-packages (from requests->gdelt) (2.8)\n",
      "Requirement already satisfied: chardet<3.1.0,>=3.0.2 in c:\\users\\jts\\appdata\\local\\continuum\\anaconda3\\lib\\site-packages (from requests->gdelt) (3.0.4)\n",
      "Requirement already satisfied: six>=1.5 in c:\\users\\jts\\appdata\\roaming\\python\\python37\\site-packages (from python-dateutil->gdelt) (1.12.0)\n",
      "Installing collected packages: gdelt\n",
      "Successfully installed gdelt-0.1.10.6\n"
     ]
    }
   ],
   "source": [
    "!pip install --user gdelt"
   ]
  },
  {
   "cell_type": "markdown",
   "metadata": {},
   "source": [
    "# Import modules"
   ]
  },
  {
   "cell_type": "code",
   "execution_count": 1,
   "metadata": {},
   "outputs": [],
   "source": [
    "from datetime import date, timedelta\n",
    "from gdelt import gdelt as gdelt_client\n",
    "import matplotlib.pyplot as plot\n",
    "import pandas\n",
    "import seaborn\n",
    "import tempfile"
   ]
  },
  {
   "cell_type": "markdown",
   "metadata": {},
   "source": [
    "# Query the knowledge graph\n",
    "Use coverage option for querying all daily records. Otherwise records collected from the last 15 minutes are returned.\n",
    "Use the date option to filter by date."
   ]
  },
  {
   "cell_type": "code",
   "execution_count": 2,
   "metadata": {},
   "outputs": [],
   "source": [
    "def get_graph(date, coverage=False):\n",
    "    client = gdelt_client(version=2)\n",
    "    graph = client.Search(date.strftime(\"%Y %m %d\"), table=\"gkg\", coverage=coverage)\n",
    "    graph = graph.astype({\"DATE\": str})\n",
    "    graph[\"DATE\"] = graph[\"DATE\"].apply(lambda dateStr: dateStr[:14])\n",
    "    del client\n",
    "    return graph\n",
    "\n",
    "def get_today_graph(coverage=False):\n",
    "    return get_graph(date.today(), coverage)\n",
    "\n",
    "def get_yesterday_graph(coverage=False):\n",
    "    return get_graph(date.today()-timedelta(days=1), coverage)"
   ]
  },
  {
   "cell_type": "code",
   "execution_count": 3,
   "metadata": {},
   "outputs": [],
   "source": [
    "report_date = date.today()-timedelta(days=1)\n",
    "graph = get_graph(report_date, coverage=True)\n",
    "corona_records = graph.loc[graph[\"V2Themes\"].str.contains(\"TAX_DISEASE_CORONAVIRUS\", na=False)]"
   ]
  },
  {
   "cell_type": "markdown",
   "metadata": {},
   "source": [
    "# Save records to temp"
   ]
  },
  {
   "cell_type": "code",
   "execution_count": 4,
   "metadata": {},
   "outputs": [],
   "source": [
    "corona_records.to_csv(\"{}/corona_{}.csv\".format(tempfile.gettempdir(), report_date.strftime(\"%Y%m%d\")), index=False)"
   ]
  },
  {
   "cell_type": "markdown",
   "metadata": {},
   "source": [
    "# Location type exploding and filtering"
   ]
  },
  {
   "cell_type": "code",
   "execution_count": 5,
   "metadata": {},
   "outputs": [],
   "source": [
    "from enum import Enum\n",
    "\n",
    "class location_type(Enum):\n",
    "    \"\"\"Location type\n",
    "        Defines the different location types.\n",
    "    \"\"\"\n",
    "    UNKNOWN = 0\n",
    "    COUNTRY = 1\n",
    "    USSTATE = 2\n",
    "    USCITY = 3\n",
    "    WORLDCITY = 4\n",
    "    WORLDSTATE = 5\n",
    "\n",
    "class gdelt_location:\n",
    "    \"\"\"GDELT location\n",
    "        Defines a GDELT location.\n",
    "    \"\"\"\n",
    "    def __init__(self, location_typeid=0, name=None, country_code=None, admin1_code=None, lat=None, lon=None, feature_id=None):        \n",
    "        self.location_type = location_type(int(location_typeid))\n",
    "        self.location_name = name\n",
    "        self.country_code = country_code\n",
    "        self.admin1_code = admin1_code\n",
    "        self.location_lat = lat\n",
    "        self.location_lon = lon\n",
    "        self.feature_id = feature_id\n",
    "        \n",
    "    def has_location_type(self, location_type):\n",
    "        return location_type == self.location_type\n",
    "    \n",
    "    def location_type_matches(self, location_types):\n",
    "        return self.location_type in location_types\n",
    "    \n",
    "    def __str__(self):\n",
    "        return self.location_name\n",
    "    \n",
    "class location_filter():\n",
    "    \"\"\"Location Filter\n",
    "        Defines different filters which can be applied on the dataframes.\n",
    "    \"\"\"\n",
    "    def filter_by_type(self, gkg_dataframe, location_type):\n",
    "        return gkg_dataframe.loc[gkg_dataframe.apply(lambda record: record[\"GDELT_Locations\"].has_location_type(location_type), axis=1)]\n",
    "    \n",
    "    def filter_by_types(self, gkg_dataframe, location_types):\n",
    "        return gkg_dataframe.loc[gkg_dataframe.apply(lambda record: record[\"GDELT_Locations\"].location_type_matches(location_types), axis=1)]\n",
    "\n",
    "def split_location_entries(locations):\n",
    "    return [gdelt_location(*location) if 7 == len(location) else gdelt_location() for location in locations]\n",
    "\n",
    "def split_locations(record):\n",
    "    return split_location_entries([location.split(\"#\") for location in str(record[\"Locations\"]).split(\";\")])\n"
   ]
  },
  {
   "cell_type": "markdown",
   "metadata": {},
   "source": [
    "# Filter the locations by location type"
   ]
  },
  {
   "cell_type": "code",
   "execution_count": 6,
   "metadata": {},
   "outputs": [],
   "source": [
    "corona_locations = corona_records.copy(deep=True)\n",
    "corona_locations[\"GDELT_Locations\"] = corona_records.apply(lambda record: split_locations(record), axis=1)\n",
    "corona_locations_exploded = corona_locations.explode(\"GDELT_Locations\")\n",
    "\n",
    "filter = location_filter()\n",
    "corona_filtered_locations = filter.filter_by_types(corona_locations_exploded, [location_type.WORLDCITY, location_type.USCITY])\n",
    "del corona_records\n",
    "del graph"
   ]
  },
  {
   "cell_type": "markdown",
   "metadata": {},
   "source": [
    "# Extract the coordinates and the name from the GDELT location"
   ]
  },
  {
   "cell_type": "code",
   "execution_count": 7,
   "metadata": {},
   "outputs": [
    {
     "data": {
      "text/html": [
       "<div>\n",
       "<style scoped>\n",
       "    .dataframe tbody tr th:only-of-type {\n",
       "        vertical-align: middle;\n",
       "    }\n",
       "\n",
       "    .dataframe tbody tr th {\n",
       "        vertical-align: top;\n",
       "    }\n",
       "\n",
       "    .dataframe thead th {\n",
       "        text-align: right;\n",
       "    }\n",
       "</style>\n",
       "<table border=\"1\" class=\"dataframe\">\n",
       "  <thead>\n",
       "    <tr style=\"text-align: right;\">\n",
       "      <th></th>\n",
       "      <th>GKGRECORDID</th>\n",
       "      <th>DATE</th>\n",
       "      <th>SourceCommonName</th>\n",
       "      <th>DocumentIdentifier</th>\n",
       "      <th>Location_Name</th>\n",
       "      <th>Location_Lat</th>\n",
       "      <th>Location_Lon</th>\n",
       "    </tr>\n",
       "  </thead>\n",
       "  <tbody>\n",
       "    <tr>\n",
       "      <th>1</th>\n",
       "      <td>20200314000000-1</td>\n",
       "      <td>20200314000000</td>\n",
       "      <td>mykxlg.com</td>\n",
       "      <td>https://www.mykxlg.com/news/national/on-eve-of...</td>\n",
       "      <td>Hollywood, California, United States</td>\n",
       "      <td>34.0983</td>\n",
       "      <td>-118.327</td>\n",
       "    </tr>\n",
       "    <tr>\n",
       "      <th>1</th>\n",
       "      <td>20200314000000-1</td>\n",
       "      <td>20200314000000</td>\n",
       "      <td>mykxlg.com</td>\n",
       "      <td>https://www.mykxlg.com/news/national/on-eve-of...</td>\n",
       "      <td>Anaheim, California, United States</td>\n",
       "      <td>33.8353</td>\n",
       "      <td>-117.915</td>\n",
       "    </tr>\n",
       "    <tr>\n",
       "      <th>3</th>\n",
       "      <td>20200314000000-3</td>\n",
       "      <td>20200314000000</td>\n",
       "      <td>newportri.com</td>\n",
       "      <td>https://www.newportri.com/zz/news/20200313/sch...</td>\n",
       "      <td>Philadelphia, Pennsylvania, United States</td>\n",
       "      <td>39.9523</td>\n",
       "      <td>-75.1638</td>\n",
       "    </tr>\n",
       "    <tr>\n",
       "      <th>3</th>\n",
       "      <td>20200314000000-3</td>\n",
       "      <td>20200314000000</td>\n",
       "      <td>newportri.com</td>\n",
       "      <td>https://www.newportri.com/zz/news/20200313/sch...</td>\n",
       "      <td>Cleveland, Ohio, United States</td>\n",
       "      <td>41.4995</td>\n",
       "      <td>-81.6954</td>\n",
       "    </tr>\n",
       "    <tr>\n",
       "      <th>3</th>\n",
       "      <td>20200314000000-3</td>\n",
       "      <td>20200314000000</td>\n",
       "      <td>newportri.com</td>\n",
       "      <td>https://www.newportri.com/zz/news/20200313/sch...</td>\n",
       "      <td>Valley High School, California, United States</td>\n",
       "      <td>33.7231</td>\n",
       "      <td>-117.901</td>\n",
       "    </tr>\n",
       "    <tr>\n",
       "      <th>...</th>\n",
       "      <td>...</td>\n",
       "      <td>...</td>\n",
       "      <td>...</td>\n",
       "      <td>...</td>\n",
       "      <td>...</td>\n",
       "      <td>...</td>\n",
       "      <td>...</td>\n",
       "    </tr>\n",
       "    <tr>\n",
       "      <th>121331</th>\n",
       "      <td>20200314234500-914</td>\n",
       "      <td>20200314234500</td>\n",
       "      <td>kgw.com</td>\n",
       "      <td>https://www.kgw.com/article/news/health/corona...</td>\n",
       "      <td>Washington, Washington, United States</td>\n",
       "      <td>38.8951</td>\n",
       "      <td>-77.0364</td>\n",
       "    </tr>\n",
       "    <tr>\n",
       "      <th>121331</th>\n",
       "      <td>20200314234500-914</td>\n",
       "      <td>20200314234500</td>\n",
       "      <td>kgw.com</td>\n",
       "      <td>https://www.kgw.com/article/news/health/corona...</td>\n",
       "      <td>Linn County, Oregon, United States</td>\n",
       "      <td>44.4996</td>\n",
       "      <td>-122.585</td>\n",
       "    </tr>\n",
       "    <tr>\n",
       "      <th>121336</th>\n",
       "      <td>20200314234500-919</td>\n",
       "      <td>20200314234500</td>\n",
       "      <td>guardian-series.co.uk</td>\n",
       "      <td>https://www.guardian-series.co.uk/news/nationa...</td>\n",
       "      <td>London, London, City Of, United Kingdom</td>\n",
       "      <td>51.5</td>\n",
       "      <td>-0.116667</td>\n",
       "    </tr>\n",
       "    <tr>\n",
       "      <th>121339</th>\n",
       "      <td>20200314234500-922</td>\n",
       "      <td>20200314234500</td>\n",
       "      <td>790wpic.com</td>\n",
       "      <td>https://www.790wpic.com/news/trump-says-he-was...</td>\n",
       "      <td>Washington, Washington, United States</td>\n",
       "      <td>38.8951</td>\n",
       "      <td>-77.0364</td>\n",
       "    </tr>\n",
       "    <tr>\n",
       "      <th>121339</th>\n",
       "      <td>20200314234500-922</td>\n",
       "      <td>20200314234500</td>\n",
       "      <td>790wpic.com</td>\n",
       "      <td>https://www.790wpic.com/news/trump-says-he-was...</td>\n",
       "      <td>White House, District Of Columbia, United States</td>\n",
       "      <td>38.8951</td>\n",
       "      <td>-77.0364</td>\n",
       "    </tr>\n",
       "  </tbody>\n",
       "</table>\n",
       "<p>112418 rows × 7 columns</p>\n",
       "</div>"
      ],
      "text/plain": [
       "               GKGRECORDID            DATE       SourceCommonName  \\\n",
       "1         20200314000000-1  20200314000000             mykxlg.com   \n",
       "1         20200314000000-1  20200314000000             mykxlg.com   \n",
       "3         20200314000000-3  20200314000000          newportri.com   \n",
       "3         20200314000000-3  20200314000000          newportri.com   \n",
       "3         20200314000000-3  20200314000000          newportri.com   \n",
       "...                    ...             ...                    ...   \n",
       "121331  20200314234500-914  20200314234500                kgw.com   \n",
       "121331  20200314234500-914  20200314234500                kgw.com   \n",
       "121336  20200314234500-919  20200314234500  guardian-series.co.uk   \n",
       "121339  20200314234500-922  20200314234500            790wpic.com   \n",
       "121339  20200314234500-922  20200314234500            790wpic.com   \n",
       "\n",
       "                                       DocumentIdentifier  \\\n",
       "1       https://www.mykxlg.com/news/national/on-eve-of...   \n",
       "1       https://www.mykxlg.com/news/national/on-eve-of...   \n",
       "3       https://www.newportri.com/zz/news/20200313/sch...   \n",
       "3       https://www.newportri.com/zz/news/20200313/sch...   \n",
       "3       https://www.newportri.com/zz/news/20200313/sch...   \n",
       "...                                                   ...   \n",
       "121331  https://www.kgw.com/article/news/health/corona...   \n",
       "121331  https://www.kgw.com/article/news/health/corona...   \n",
       "121336  https://www.guardian-series.co.uk/news/nationa...   \n",
       "121339  https://www.790wpic.com/news/trump-says-he-was...   \n",
       "121339  https://www.790wpic.com/news/trump-says-he-was...   \n",
       "\n",
       "                                           Location_Name Location_Lat  \\\n",
       "1                   Hollywood, California, United States      34.0983   \n",
       "1                     Anaheim, California, United States      33.8353   \n",
       "3              Philadelphia, Pennsylvania, United States      39.9523   \n",
       "3                         Cleveland, Ohio, United States      41.4995   \n",
       "3          Valley High School, California, United States      33.7231   \n",
       "...                                                  ...          ...   \n",
       "121331             Washington, Washington, United States      38.8951   \n",
       "121331                Linn County, Oregon, United States      44.4996   \n",
       "121336           London, London, City Of, United Kingdom         51.5   \n",
       "121339             Washington, Washington, United States      38.8951   \n",
       "121339  White House, District Of Columbia, United States      38.8951   \n",
       "\n",
       "       Location_Lon  \n",
       "1          -118.327  \n",
       "1          -117.915  \n",
       "3          -75.1638  \n",
       "3          -81.6954  \n",
       "3          -117.901  \n",
       "...             ...  \n",
       "121331     -77.0364  \n",
       "121331     -122.585  \n",
       "121336    -0.116667  \n",
       "121339     -77.0364  \n",
       "121339     -77.0364  \n",
       "\n",
       "[112418 rows x 7 columns]"
      ]
     },
     "execution_count": 7,
     "metadata": {},
     "output_type": "execute_result"
    }
   ],
   "source": [
    "def to_point_locations(gkg_dataframe):\n",
    "    if gkg_dataframe.empty:\n",
    "        return pandas.DataFrame(columns=[\"GKGRECORDID\", \n",
    "                                         \"DATE\",\n",
    "                                         \"SourceCommonName\",\n",
    "                                         \"DocumentIdentifier\",\n",
    "                                         \"Location_Name\",\n",
    "                                         \"Location_Lat\",\n",
    "                                         \"Location_Lon\"])\n",
    "        \n",
    "    point_locations = gkg_dataframe[[\"GKGRECORDID\", \n",
    "                                                 \"DATE\",\n",
    "                                                 \"SourceCommonName\",\n",
    "                                                 \"DocumentIdentifier\",\n",
    "                                                 \"GDELT_Locations\"]].copy(deep=True)\n",
    "    point_locations[\"Location_Name\"] = gkg_dataframe.apply(lambda record: record[\"GDELT_Locations\"].location_name, axis=1)\n",
    "    point_locations[\"Location_Lat\"] = gkg_dataframe.apply(lambda record: record[\"GDELT_Locations\"].location_lat, axis=1)\n",
    "    point_locations[\"Location_Lon\"] = gkg_dataframe.apply(lambda record: record[\"GDELT_Locations\"].location_lon, axis=1)\n",
    "    return point_locations.drop(\"GDELT_Locations\", axis=1)\n",
    "\n",
    "corona_point_locations = to_point_locations(corona_filtered_locations)\n",
    "del corona_filtered_locations\n",
    "\n",
    "corona_point_locations"
   ]
  },
  {
   "cell_type": "markdown",
   "metadata": {},
   "source": [
    "# Save point locations to temp"
   ]
  },
  {
   "cell_type": "code",
   "execution_count": 8,
   "metadata": {},
   "outputs": [],
   "source": [
    "corona_point_locations.to_csv(\"{}/corona_locations_{}.gkg.csv\".format(tempfile.gettempdir(), report_date.strftime(\"%Y%m%d\")), index=False)\n",
    "\n",
    "del corona_point_locations"
   ]
  },
  {
   "cell_type": "code",
   "execution_count": null,
   "metadata": {},
   "outputs": [],
   "source": []
  }
 ],
 "metadata": {
  "kernelspec": {
   "display_name": "Python 3",
   "language": "python",
   "name": "python3"
  },
  "language_info": {
   "codemirror_mode": {
    "name": "ipython",
    "version": 3
   },
   "file_extension": ".py",
   "mimetype": "text/x-python",
   "name": "python",
   "nbconvert_exporter": "python",
   "pygments_lexer": "ipython3",
   "version": "3.6.4"
  }
 },
 "nbformat": 4,
 "nbformat_minor": 2
}
