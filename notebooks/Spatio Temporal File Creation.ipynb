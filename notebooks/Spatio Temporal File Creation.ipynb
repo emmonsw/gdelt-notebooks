{
 "cells": [
  {
   "cell_type": "markdown",
   "metadata": {},
   "source": [
    "# Spatio Temporal Files using extracted locations from the GDELT Knowledge Graph\n",
    "We are reading the CSV files into a pandas dataframe.\n",
    "The pandas dataframes are converted into a netcdf file using latitude, longitude and time.\n",
    "We are using xarray for the conversion from dataframe to netcdf."
   ]
  },
  {
   "cell_type": "code",
   "execution_count": null,
   "metadata": {},
   "outputs": [],
   "source": [
    "!pip install --user arcgis\n",
    "!pip install --user netcdf4\n",
    "!pip install --user xarray"
   ]
  },
  {
   "cell_type": "code",
   "execution_count": 331,
   "metadata": {},
   "outputs": [],
   "source": [
    "from datetime import date\n",
    "import os\n",
    "import pandas\n",
    "import tempfile\n",
    "import xarray"
   ]
  },
  {
   "cell_type": "markdown",
   "metadata": {},
   "source": [
    "# Read the extracted locations from the temp folder into a dataframe"
   ]
  },
  {
   "cell_type": "code",
   "execution_count": 332,
   "metadata": {},
   "outputs": [],
   "source": [
    "def read_gkg_locations_from_temp():\n",
    "    gkg_locations = None\n",
    "    with os.scandir(tempfile.gettempdir()) as dir_scanner:\n",
    "        for dir_entry in dir_scanner:\n",
    "            if dir_entry.is_file():\n",
    "                if dir_entry.name.endswith(\".gkg.csv\"):\n",
    "                        gkg_locations_temp = pandas.read_csv(dir_entry.path)\n",
    "                        if gkg_locations is None:\n",
    "                             gkg_locations = gkg_locations_temp\n",
    "                        else:\n",
    "                            gkg_locations = pandas.concat([gkg_locations, gkg_locations_temp], axis=0)\n",
    "    return gkg_locations"
   ]
  },
  {
   "cell_type": "code",
   "execution_count": 333,
   "metadata": {},
   "outputs": [
    {
     "data": {
      "text/html": [
       "<div>\n",
       "<style scoped>\n",
       "    .dataframe tbody tr th:only-of-type {\n",
       "        vertical-align: middle;\n",
       "    }\n",
       "\n",
       "    .dataframe tbody tr th {\n",
       "        vertical-align: top;\n",
       "    }\n",
       "\n",
       "    .dataframe thead th {\n",
       "        text-align: right;\n",
       "    }\n",
       "</style>\n",
       "<table border=\"1\" class=\"dataframe\">\n",
       "  <thead>\n",
       "    <tr style=\"text-align: right;\">\n",
       "      <th></th>\n",
       "      <th>GKGRECORDID</th>\n",
       "      <th>DATE</th>\n",
       "      <th>SourceCommonName</th>\n",
       "      <th>DocumentIdentifier</th>\n",
       "      <th>Location_Name</th>\n",
       "      <th>Location_Lat</th>\n",
       "      <th>Location_Lon</th>\n",
       "    </tr>\n",
       "  </thead>\n",
       "  <tbody>\n",
       "    <tr>\n",
       "      <th>0</th>\n",
       "      <td>20200314000000-1</td>\n",
       "      <td>20200314000000</td>\n",
       "      <td>mykxlg.com</td>\n",
       "      <td>https://www.mykxlg.com/news/national/on-eve-of...</td>\n",
       "      <td>Hollywood, California, United States</td>\n",
       "      <td>34.0983</td>\n",
       "      <td>-118.3270</td>\n",
       "    </tr>\n",
       "    <tr>\n",
       "      <th>1</th>\n",
       "      <td>20200314000000-1</td>\n",
       "      <td>20200314000000</td>\n",
       "      <td>mykxlg.com</td>\n",
       "      <td>https://www.mykxlg.com/news/national/on-eve-of...</td>\n",
       "      <td>Anaheim, California, United States</td>\n",
       "      <td>33.8353</td>\n",
       "      <td>-117.9150</td>\n",
       "    </tr>\n",
       "    <tr>\n",
       "      <th>2</th>\n",
       "      <td>20200314000000-3</td>\n",
       "      <td>20200314000000</td>\n",
       "      <td>newportri.com</td>\n",
       "      <td>https://www.newportri.com/zz/news/20200313/sch...</td>\n",
       "      <td>Philadelphia, Pennsylvania, United States</td>\n",
       "      <td>39.9523</td>\n",
       "      <td>-75.1638</td>\n",
       "    </tr>\n",
       "    <tr>\n",
       "      <th>3</th>\n",
       "      <td>20200314000000-3</td>\n",
       "      <td>20200314000000</td>\n",
       "      <td>newportri.com</td>\n",
       "      <td>https://www.newportri.com/zz/news/20200313/sch...</td>\n",
       "      <td>Cleveland, Ohio, United States</td>\n",
       "      <td>41.4995</td>\n",
       "      <td>-81.6954</td>\n",
       "    </tr>\n",
       "    <tr>\n",
       "      <th>4</th>\n",
       "      <td>20200314000000-3</td>\n",
       "      <td>20200314000000</td>\n",
       "      <td>newportri.com</td>\n",
       "      <td>https://www.newportri.com/zz/news/20200313/sch...</td>\n",
       "      <td>Valley High School, California, United States</td>\n",
       "      <td>33.7231</td>\n",
       "      <td>-117.9010</td>\n",
       "    </tr>\n",
       "    <tr>\n",
       "      <th>...</th>\n",
       "      <td>...</td>\n",
       "      <td>...</td>\n",
       "      <td>...</td>\n",
       "      <td>...</td>\n",
       "      <td>...</td>\n",
       "      <td>...</td>\n",
       "      <td>...</td>\n",
       "    </tr>\n",
       "    <tr>\n",
       "      <th>204435</th>\n",
       "      <td>20200315191500-1533</td>\n",
       "      <td>20200315191500</td>\n",
       "      <td>rockymounttelegram.com</td>\n",
       "      <td>https://www.rockymounttelegram.com/news/nation...</td>\n",
       "      <td>Iditarod, Alaska, United States</td>\n",
       "      <td>62.5444</td>\n",
       "      <td>-158.0950</td>\n",
       "    </tr>\n",
       "    <tr>\n",
       "      <th>204436</th>\n",
       "      <td>20200315191500-1533</td>\n",
       "      <td>20200315191500</td>\n",
       "      <td>rockymounttelegram.com</td>\n",
       "      <td>https://www.rockymounttelegram.com/news/nation...</td>\n",
       "      <td>Anchorage, Alaska, United States</td>\n",
       "      <td>61.2181</td>\n",
       "      <td>-149.9000</td>\n",
       "    </tr>\n",
       "    <tr>\n",
       "      <th>204437</th>\n",
       "      <td>20200315191500-1533</td>\n",
       "      <td>20200315191500</td>\n",
       "      <td>rockymounttelegram.com</td>\n",
       "      <td>https://www.rockymounttelegram.com/news/nation...</td>\n",
       "      <td>Kaltag, Alaska, United States</td>\n",
       "      <td>64.3272</td>\n",
       "      <td>-158.7220</td>\n",
       "    </tr>\n",
       "    <tr>\n",
       "      <th>204438</th>\n",
       "      <td>20200315191500-1533</td>\n",
       "      <td>20200315191500</td>\n",
       "      <td>rockymounttelegram.com</td>\n",
       "      <td>https://www.rockymounttelegram.com/news/nation...</td>\n",
       "      <td>Nulato, Alaska, United States</td>\n",
       "      <td>64.7194</td>\n",
       "      <td>-158.1030</td>\n",
       "    </tr>\n",
       "    <tr>\n",
       "      <th>204439</th>\n",
       "      <td>20200315191500-1534</td>\n",
       "      <td>20200315191500</td>\n",
       "      <td>greenwichtime.com</td>\n",
       "      <td>https://www.greenwichtime.com/news/coronavirus...</td>\n",
       "      <td>Farmington, Connecticut, United States</td>\n",
       "      <td>41.7198</td>\n",
       "      <td>-72.8320</td>\n",
       "    </tr>\n",
       "  </tbody>\n",
       "</table>\n",
       "<p>316858 rows × 7 columns</p>\n",
       "</div>"
      ],
      "text/plain": [
       "                GKGRECORDID            DATE        SourceCommonName  \\\n",
       "0          20200314000000-1  20200314000000              mykxlg.com   \n",
       "1          20200314000000-1  20200314000000              mykxlg.com   \n",
       "2          20200314000000-3  20200314000000           newportri.com   \n",
       "3          20200314000000-3  20200314000000           newportri.com   \n",
       "4          20200314000000-3  20200314000000           newportri.com   \n",
       "...                     ...             ...                     ...   \n",
       "204435  20200315191500-1533  20200315191500  rockymounttelegram.com   \n",
       "204436  20200315191500-1533  20200315191500  rockymounttelegram.com   \n",
       "204437  20200315191500-1533  20200315191500  rockymounttelegram.com   \n",
       "204438  20200315191500-1533  20200315191500  rockymounttelegram.com   \n",
       "204439  20200315191500-1534  20200315191500       greenwichtime.com   \n",
       "\n",
       "                                       DocumentIdentifier  \\\n",
       "0       https://www.mykxlg.com/news/national/on-eve-of...   \n",
       "1       https://www.mykxlg.com/news/national/on-eve-of...   \n",
       "2       https://www.newportri.com/zz/news/20200313/sch...   \n",
       "3       https://www.newportri.com/zz/news/20200313/sch...   \n",
       "4       https://www.newportri.com/zz/news/20200313/sch...   \n",
       "...                                                   ...   \n",
       "204435  https://www.rockymounttelegram.com/news/nation...   \n",
       "204436  https://www.rockymounttelegram.com/news/nation...   \n",
       "204437  https://www.rockymounttelegram.com/news/nation...   \n",
       "204438  https://www.rockymounttelegram.com/news/nation...   \n",
       "204439  https://www.greenwichtime.com/news/coronavirus...   \n",
       "\n",
       "                                        Location_Name  Location_Lat  \\\n",
       "0                Hollywood, California, United States       34.0983   \n",
       "1                  Anaheim, California, United States       33.8353   \n",
       "2           Philadelphia, Pennsylvania, United States       39.9523   \n",
       "3                      Cleveland, Ohio, United States       41.4995   \n",
       "4       Valley High School, California, United States       33.7231   \n",
       "...                                               ...           ...   \n",
       "204435                Iditarod, Alaska, United States       62.5444   \n",
       "204436               Anchorage, Alaska, United States       61.2181   \n",
       "204437                  Kaltag, Alaska, United States       64.3272   \n",
       "204438                  Nulato, Alaska, United States       64.7194   \n",
       "204439         Farmington, Connecticut, United States       41.7198   \n",
       "\n",
       "        Location_Lon  \n",
       "0          -118.3270  \n",
       "1          -117.9150  \n",
       "2           -75.1638  \n",
       "3           -81.6954  \n",
       "4          -117.9010  \n",
       "...              ...  \n",
       "204435     -158.0950  \n",
       "204436     -149.9000  \n",
       "204437     -158.7220  \n",
       "204438     -158.1030  \n",
       "204439      -72.8320  \n",
       "\n",
       "[316858 rows x 7 columns]"
      ]
     },
     "execution_count": 333,
     "metadata": {},
     "output_type": "execute_result"
    }
   ],
   "source": [
    "corona_locations = read_gkg_locations_from_temp()\n",
    "corona_locations"
   ]
  },
  {
   "cell_type": "markdown",
   "metadata": {},
   "source": [
    "# Convert the DATE column to datetime values\n",
    "- Drop the original DATE column\n",
    "- Rename the columns"
   ]
  },
  {
   "cell_type": "code",
   "execution_count": 334,
   "metadata": {},
   "outputs": [],
   "source": [
    "corona_locations[\"time\"] = corona_locations.apply(lambda record: pandas.to_datetime(str(record[\"DATE\"]), format=\"%Y%m%d%H%M%S\"), axis=1)\n",
    "corona_locations.drop(\"DATE\", axis=1, inplace=True)\n",
    "corona_locations.rename(columns = {\"Location_Lat\":\"y\", \"Location_Lon\":\"x\"}, inplace=True)"
   ]
  },
  {
   "cell_type": "markdown",
   "metadata": {},
   "source": [
    "# Convert the dataframe to a multidimensional xarray\n",
    "**Warning:** Compute intensive, going to stress your CPU and memory!\n",
    "- Set the dataframes index using longitude, latitude and date => Reduced to Geometry and time where Geometry is a string of x#y\n",
    "- We cannot use WKB because bytes are not supported by dataframes, xarray needs hashable objects and netcdf does not support tuples and high level objects\n",
    "- Aggregate into a field named \"count\" and drop the duplicate multi-index entries\n",
    "- Convert to a xarray and fill \"not a number\" values in count with 0"
   ]
  },
  {
   "cell_type": "code",
   "execution_count": 335,
   "metadata": {},
   "outputs": [
    {
     "data": {
      "text/html": [
       "<pre>&lt;xarray.Dataset&gt;\n",
       "Dimensions:   (Geometry: 12171, time: 172)\n",
       "Coordinates:\n",
       "  * Geometry  (Geometry) object &#x27;-0.010375#51.4776&#x27; ... &#x27;99.9435#7.56991&#x27;\n",
       "  * time      (time) datetime64[ns] 2020-03-14 ... 2020-03-15T19:15:00\n",
       "Data variables:\n",
       "    count     (Geometry, time) float64 0.0 0.0 0.0 0.0 0.0 ... 0.0 0.0 0.0 0.0</pre>"
      ],
      "text/plain": [
       "<xarray.Dataset>\n",
       "Dimensions:   (Geometry: 12171, time: 172)\n",
       "Coordinates:\n",
       "  * Geometry  (Geometry) object '-0.010375#51.4776' ... '99.9435#7.56991'\n",
       "  * time      (time) datetime64[ns] 2020-03-14 ... 2020-03-15T19:15:00\n",
       "Data variables:\n",
       "    count     (Geometry, time) float64 0.0 0.0 0.0 0.0 0.0 ... 0.0 0.0 0.0 0.0"
      ]
     },
     "execution_count": 335,
     "metadata": {},
     "output_type": "execute_result"
    }
   ],
   "source": [
    "def index_by_coordinates_and_time(locations):\n",
    "    locations_multi = locations[[\"x\", \"y\", \"time\"]].set_index([\"x\", \"y\", \"time\"])\n",
    "    locations_multi[\"count\"] = locations_multi.groupby(level=[0,1,2]).size()\n",
    "    locations_multi = locations_multi.loc[~locations_multi.index.duplicated(keep=\"first\")]\n",
    "    locations_xarray = locations_multi.to_xarray()\n",
    "    locations_xarray = locations_xarray.fillna(0)\n",
    "    del locations_multi\n",
    "    return locations_xarray\n",
    "\n",
    "def index_by_location_and_time(locations):\n",
    "    locations_multi = locations[[\"Location_Name\", \"time\"]].set_index([\"Location_Name\", \"time\"])\n",
    "    locations_multi[\"count\"] = locations_multi.groupby(level=[0,1]).size()\n",
    "    locations_multi = locations_multi.loc[~locations_multi.index.duplicated(keep=\"first\")]\n",
    "    locations_xarray = locations_multi.to_xarray()\n",
    "    locations_xarray = locations_xarray.fillna(0)\n",
    "    del locations_multi\n",
    "    return locations_xarray\n",
    "\n",
    "def to_plaintext(x, y):\n",
    "    return \"{}#{}\".format(x, y)\n",
    "\n",
    "def index_by_geometry_and_time(locations):\n",
    "    locations_multi = locations[[\"x\", \"y\", \"time\"]].copy(deep=True)\n",
    "    locations_multi[\"Geometry\"] = locations_multi.apply(lambda record: to_plaintext(record[\"x\"], record[\"y\"]), axis=1)\n",
    "    locations_multi = locations_multi[[\"Geometry\", \"time\"]].set_index([\"Geometry\", \"time\"])\n",
    "    locations_multi[\"count\"] = locations_multi.groupby(level=[0,1]).size()\n",
    "    locations_multi = locations_multi.loc[~locations_multi.index.duplicated(keep=\"first\")]\n",
    "    locations_xarray = locations_multi.to_xarray()\n",
    "    locations_xarray = locations_xarray.fillna(0)\n",
    "    del locations_multi\n",
    "    return locations_xarray\n",
    "\n",
    "#corona_locations_xarray = index_by_coordinates_and_time(corona_locations)\n",
    "#corona_locations_xarray = index_by_location_and_time(corona_locations)\n",
    "corona_locations_xarray = index_by_geometry_and_time(corona_locations)\n",
    "corona_locations_xarray"
   ]
  },
  {
   "cell_type": "code",
   "execution_count": 336,
   "metadata": {},
   "outputs": [
    {
     "data": {
      "text/html": [
       "<pre>&lt;xarray.DataArray &#x27;count&#x27; ()&gt;\n",
       "array(0.1513596)</pre>"
      ],
      "text/plain": [
       "<xarray.DataArray 'count' ()>\n",
       "array(0.1513596)"
      ]
     },
     "execution_count": 336,
     "metadata": {},
     "output_type": "execute_result"
    }
   ],
   "source": [
    "corona_locations_xarray[\"count\"].mean()"
   ]
  },
  {
   "cell_type": "markdown",
   "metadata": {},
   "source": [
    "# Save the xarray as a netcdf file\n",
    "- **Error:** module 'dask.base' has no attribute 'get_scheduler'\n",
    "- **Note:** We had to update dask to version '2.12.0'"
   ]
  },
  {
   "cell_type": "code",
   "execution_count": 337,
   "metadata": {},
   "outputs": [],
   "source": [
    "corona_locations_xarray.to_netcdf(\"{}/corona_locations_{}.gkg.nc\".format(tempfile.gettempdir(), date.today().strftime(\"%Y%m%d\"), compute=True))\n",
    "\n",
    "del corona_locations\n",
    "del corona_locations_xarray"
   ]
  },
  {
   "cell_type": "code",
   "execution_count": null,
   "metadata": {},
   "outputs": [],
   "source": []
  }
 ],
 "metadata": {
  "kernelspec": {
   "display_name": "Python 3",
   "language": "python",
   "name": "python3"
  },
  "language_info": {
   "codemirror_mode": {
    "name": "ipython",
    "version": 3
   },
   "file_extension": ".py",
   "mimetype": "text/x-python",
   "name": "python",
   "nbconvert_exporter": "python",
   "pygments_lexer": "ipython3",
   "version": "3.6.4"
  }
 },
 "nbformat": 4,
 "nbformat_minor": 2
}
