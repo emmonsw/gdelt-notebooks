{
 "cells": [
  {
   "cell_type": "markdown",
   "metadata": {},
   "source": [
    "# Spatio Temporal Files using extracted locations from the GDELT Knowledge Graph\n",
    "We are reading the CSV files into a pandas dataframe.\n",
    "The pandas dataframes are converted into a netcdf file using latitude, longitude and time.\n",
    "We are using xarray for the conversion from dataframe to netcdf."
   ]
  },
  {
   "cell_type": "code",
   "execution_count": 1,
   "metadata": {},
   "outputs": [
    {
     "name": "stdout",
     "output_type": "stream",
     "text": [
      "Requirement already satisfied: netcdf4 in c:\\users\\developer\\appdata\\roaming\\python\\python36\\site-packages (1.5.3)\n",
      "Requirement already satisfied: numpy>=1.7 in c:\\users\\developer\\appdata\\roaming\\python\\python36\\site-packages (from netcdf4) (1.18.1)\n",
      "Requirement already satisfied: cftime in c:\\users\\developer\\appdata\\roaming\\python\\python36\\site-packages (from netcdf4) (1.1.0)\n"
     ]
    },
    {
     "name": "stderr",
     "output_type": "stream",
     "text": [
      "You are using pip version 18.1, however version 20.0.2 is available.\n",
      "You should consider upgrading via the 'python -m pip install --upgrade pip' command.\n"
     ]
    },
    {
     "name": "stdout",
     "output_type": "stream",
     "text": [
      "Requirement already satisfied: xarray in c:\\users\\developer\\appdata\\roaming\\python\\python36\\site-packages (0.15.0)\n",
      "Requirement already satisfied: pandas>=0.25 in c:\\users\\developer\\appdata\\roaming\\python\\python36\\site-packages (from xarray) (1.0.1)\n",
      "Requirement already satisfied: numpy>=1.15 in c:\\users\\developer\\appdata\\roaming\\python\\python36\\site-packages (from xarray) (1.18.1)\n",
      "Requirement already satisfied: pytz>=2017.2 in c:\\bin\\anaconda3\\lib\\site-packages (from pandas>=0.25->xarray) (2017.3)\n",
      "Requirement already satisfied: python-dateutil>=2.6.1 in c:\\bin\\anaconda3\\lib\\site-packages (from pandas>=0.25->xarray) (2.6.1)\n",
      "Requirement already satisfied: six>=1.5 in c:\\bin\\anaconda3\\lib\\site-packages (from python-dateutil>=2.6.1->pandas>=0.25->xarray) (1.11.0)\n"
     ]
    },
    {
     "name": "stderr",
     "output_type": "stream",
     "text": [
      "You are using pip version 18.1, however version 20.0.2 is available.\n",
      "You should consider upgrading via the 'python -m pip install --upgrade pip' command.\n"
     ]
    }
   ],
   "source": [
    "!pip install --user netcdf4\n",
    "!pip install --user xarray"
   ]
  },
  {
   "cell_type": "code",
   "execution_count": 151,
   "metadata": {},
   "outputs": [],
   "source": [
    "from datetime import date\n",
    "import os\n",
    "import pandas\n",
    "import tempfile\n",
    "import xarray"
   ]
  },
  {
   "cell_type": "markdown",
   "metadata": {},
   "source": [
    "# Read the extracted locations from the temp folder into a dataframe"
   ]
  },
  {
   "cell_type": "code",
   "execution_count": 156,
   "metadata": {},
   "outputs": [],
   "source": [
    "def read_gkg_locations_from_temp():\n",
    "    gkg_locations = None\n",
    "    with os.scandir(tempfile.gettempdir()) as dir_scanner:\n",
    "        for dir_entry in dir_scanner:\n",
    "            if dir_entry.is_file():\n",
    "                if dir_entry.name.endswith(\".gkg.csv\"):\n",
    "                        gkg_locations_temp = pandas.read_csv(dir_entry.path)\n",
    "                        if gkg_locations is None:\n",
    "                             gkg_locations = gkg_locations_temp\n",
    "                        else:\n",
    "                            gkg_locations = pandas.concat([gkg_locations, gkg_locations_temp], axis=0)\n",
    "    return gkg_locations"
   ]
  },
  {
   "cell_type": "code",
   "execution_count": 158,
   "metadata": {},
   "outputs": [
    {
     "data": {
      "text/html": [
       "<div>\n",
       "<style scoped>\n",
       "    .dataframe tbody tr th:only-of-type {\n",
       "        vertical-align: middle;\n",
       "    }\n",
       "\n",
       "    .dataframe tbody tr th {\n",
       "        vertical-align: top;\n",
       "    }\n",
       "\n",
       "    .dataframe thead th {\n",
       "        text-align: right;\n",
       "    }\n",
       "</style>\n",
       "<table border=\"1\" class=\"dataframe\">\n",
       "  <thead>\n",
       "    <tr style=\"text-align: right;\">\n",
       "      <th></th>\n",
       "      <th>GKGRECORDID</th>\n",
       "      <th>DATE</th>\n",
       "      <th>SourceCommonName</th>\n",
       "      <th>DocumentIdentifier</th>\n",
       "      <th>Location_Name</th>\n",
       "      <th>Location_Lat</th>\n",
       "      <th>Location_Lon</th>\n",
       "    </tr>\n",
       "  </thead>\n",
       "  <tbody>\n",
       "    <tr>\n",
       "      <th>0</th>\n",
       "      <td>20200115001500-1165</td>\n",
       "      <td>20200115001500</td>\n",
       "      <td>7news.com.au</td>\n",
       "      <td>https://7news.com.au/lifestyle/health-wellbein...</td>\n",
       "      <td>Wuhan, Hubei, China</td>\n",
       "      <td>30.5833</td>\n",
       "      <td>114.267000</td>\n",
       "    </tr>\n",
       "    <tr>\n",
       "      <th>1</th>\n",
       "      <td>20200115001500-1879</td>\n",
       "      <td>20200115001500</td>\n",
       "      <td>thejakartapost.com</td>\n",
       "      <td>https://www.thejakartapost.com/news/2020/01/14...</td>\n",
       "      <td>Wuhan, Hubei, China</td>\n",
       "      <td>30.5833</td>\n",
       "      <td>114.267000</td>\n",
       "    </tr>\n",
       "    <tr>\n",
       "      <th>2</th>\n",
       "      <td>20200115003000-1503</td>\n",
       "      <td>20200115003000</td>\n",
       "      <td>nhk.or.jp</td>\n",
       "      <td>https://www3.nhk.or.jp/nhkworld/en/news/202001...</td>\n",
       "      <td>Geneva, Genè, Switzerland</td>\n",
       "      <td>46.1956</td>\n",
       "      <td>6.148110</td>\n",
       "    </tr>\n",
       "    <tr>\n",
       "      <th>3</th>\n",
       "      <td>20200115003000-1503</td>\n",
       "      <td>20200115003000</td>\n",
       "      <td>nhk.or.jp</td>\n",
       "      <td>https://www3.nhk.or.jp/nhkworld/en/news/202001...</td>\n",
       "      <td>Hubei, Guangdong, China</td>\n",
       "      <td>23.2656</td>\n",
       "      <td>116.054000</td>\n",
       "    </tr>\n",
       "    <tr>\n",
       "      <th>4</th>\n",
       "      <td>20200115003000-1503</td>\n",
       "      <td>20200115003000</td>\n",
       "      <td>nhk.or.jp</td>\n",
       "      <td>https://www3.nhk.or.jp/nhkworld/en/news/202001...</td>\n",
       "      <td>Wuhan, Hubei, China</td>\n",
       "      <td>30.5833</td>\n",
       "      <td>114.267000</td>\n",
       "    </tr>\n",
       "    <tr>\n",
       "      <th>...</th>\n",
       "      <td>...</td>\n",
       "      <td>...</td>\n",
       "      <td>...</td>\n",
       "      <td>...</td>\n",
       "      <td>...</td>\n",
       "      <td>...</td>\n",
       "      <td>...</td>\n",
       "    </tr>\n",
       "    <tr>\n",
       "      <th>112413</th>\n",
       "      <td>20200314234500-914</td>\n",
       "      <td>20200314234500</td>\n",
       "      <td>kgw.com</td>\n",
       "      <td>https://www.kgw.com/article/news/health/corona...</td>\n",
       "      <td>Washington, Washington, United States</td>\n",
       "      <td>38.8951</td>\n",
       "      <td>-77.036400</td>\n",
       "    </tr>\n",
       "    <tr>\n",
       "      <th>112414</th>\n",
       "      <td>20200314234500-914</td>\n",
       "      <td>20200314234500</td>\n",
       "      <td>kgw.com</td>\n",
       "      <td>https://www.kgw.com/article/news/health/corona...</td>\n",
       "      <td>Linn County, Oregon, United States</td>\n",
       "      <td>44.4996</td>\n",
       "      <td>-122.585000</td>\n",
       "    </tr>\n",
       "    <tr>\n",
       "      <th>112415</th>\n",
       "      <td>20200314234500-919</td>\n",
       "      <td>20200314234500</td>\n",
       "      <td>guardian-series.co.uk</td>\n",
       "      <td>https://www.guardian-series.co.uk/news/nationa...</td>\n",
       "      <td>London, London, City Of, United Kingdom</td>\n",
       "      <td>51.5000</td>\n",
       "      <td>-0.116667</td>\n",
       "    </tr>\n",
       "    <tr>\n",
       "      <th>112416</th>\n",
       "      <td>20200314234500-922</td>\n",
       "      <td>20200314234500</td>\n",
       "      <td>790wpic.com</td>\n",
       "      <td>https://www.790wpic.com/news/trump-says-he-was...</td>\n",
       "      <td>Washington, Washington, United States</td>\n",
       "      <td>38.8951</td>\n",
       "      <td>-77.036400</td>\n",
       "    </tr>\n",
       "    <tr>\n",
       "      <th>112417</th>\n",
       "      <td>20200314234500-922</td>\n",
       "      <td>20200314234500</td>\n",
       "      <td>790wpic.com</td>\n",
       "      <td>https://www.790wpic.com/news/trump-says-he-was...</td>\n",
       "      <td>White House, District Of Columbia, United States</td>\n",
       "      <td>38.8951</td>\n",
       "      <td>-77.036400</td>\n",
       "    </tr>\n",
       "  </tbody>\n",
       "</table>\n",
       "<p>112978 rows × 7 columns</p>\n",
       "</div>"
      ],
      "text/plain": [
       "                GKGRECORDID            DATE       SourceCommonName  \\\n",
       "0       20200115001500-1165  20200115001500           7news.com.au   \n",
       "1       20200115001500-1879  20200115001500     thejakartapost.com   \n",
       "2       20200115003000-1503  20200115003000              nhk.or.jp   \n",
       "3       20200115003000-1503  20200115003000              nhk.or.jp   \n",
       "4       20200115003000-1503  20200115003000              nhk.or.jp   \n",
       "...                     ...             ...                    ...   \n",
       "112413   20200314234500-914  20200314234500                kgw.com   \n",
       "112414   20200314234500-914  20200314234500                kgw.com   \n",
       "112415   20200314234500-919  20200314234500  guardian-series.co.uk   \n",
       "112416   20200314234500-922  20200314234500            790wpic.com   \n",
       "112417   20200314234500-922  20200314234500            790wpic.com   \n",
       "\n",
       "                                       DocumentIdentifier  \\\n",
       "0       https://7news.com.au/lifestyle/health-wellbein...   \n",
       "1       https://www.thejakartapost.com/news/2020/01/14...   \n",
       "2       https://www3.nhk.or.jp/nhkworld/en/news/202001...   \n",
       "3       https://www3.nhk.or.jp/nhkworld/en/news/202001...   \n",
       "4       https://www3.nhk.or.jp/nhkworld/en/news/202001...   \n",
       "...                                                   ...   \n",
       "112413  https://www.kgw.com/article/news/health/corona...   \n",
       "112414  https://www.kgw.com/article/news/health/corona...   \n",
       "112415  https://www.guardian-series.co.uk/news/nationa...   \n",
       "112416  https://www.790wpic.com/news/trump-says-he-was...   \n",
       "112417  https://www.790wpic.com/news/trump-says-he-was...   \n",
       "\n",
       "                                           Location_Name  Location_Lat  \\\n",
       "0                                    Wuhan, Hubei, China       30.5833   \n",
       "1                                    Wuhan, Hubei, China       30.5833   \n",
       "2                              Geneva, Genè, Switzerland       46.1956   \n",
       "3                                Hubei, Guangdong, China       23.2656   \n",
       "4                                    Wuhan, Hubei, China       30.5833   \n",
       "...                                                  ...           ...   \n",
       "112413             Washington, Washington, United States       38.8951   \n",
       "112414                Linn County, Oregon, United States       44.4996   \n",
       "112415           London, London, City Of, United Kingdom       51.5000   \n",
       "112416             Washington, Washington, United States       38.8951   \n",
       "112417  White House, District Of Columbia, United States       38.8951   \n",
       "\n",
       "        Location_Lon  \n",
       "0         114.267000  \n",
       "1         114.267000  \n",
       "2           6.148110  \n",
       "3         116.054000  \n",
       "4         114.267000  \n",
       "...              ...  \n",
       "112413    -77.036400  \n",
       "112414   -122.585000  \n",
       "112415     -0.116667  \n",
       "112416    -77.036400  \n",
       "112417    -77.036400  \n",
       "\n",
       "[112978 rows x 7 columns]"
      ]
     },
     "execution_count": 158,
     "metadata": {},
     "output_type": "execute_result"
    }
   ],
   "source": [
    "corona_locations = read_gkg_locations_from_temp()\n",
    "corona_locations"
   ]
  },
  {
   "cell_type": "markdown",
   "metadata": {},
   "source": [
    "# Convert the DATE column to datetime values\n",
    "- Drop the original DATE column\n",
    "- Rename the columns"
   ]
  },
  {
   "cell_type": "code",
   "execution_count": 159,
   "metadata": {},
   "outputs": [],
   "source": [
    "corona_locations[\"time\"] = corona_locations.apply(lambda record: pandas.to_datetime(str(record[\"DATE\"]), format=\"%Y%m%d%H%M%S\"), axis=1)\n",
    "corona_locations.drop(\"DATE\", axis=1, inplace=True)\n",
    "corona_locations.rename(columns = {\"Location_Lat\":\"y\", \"Location_Lon\":\"x\"}, inplace=True)"
   ]
  },
  {
   "cell_type": "markdown",
   "metadata": {},
   "source": [
    "# Convert the dataframe to a multidimensional xarray\n",
    "- Set the dataframes index using longitude, latitude and date\n",
    "- Aggregate into a field named \"count\" and drop the duplicate multi-index entries\n",
    "- Convert to a xarray and fill \"not a number\" values in count with 0"
   ]
  },
  {
   "cell_type": "code",
   "execution_count": 130,
   "metadata": {},
   "outputs": [],
   "source": [
    "corona_locations_multi = corona_locations[[\"x\", \"y\", \"time\"]].set_index([\"x\", \"y\", \"time\"])\n",
    "corona_locations_multi[\"count\"] = corona_locations_multi.groupby(level=[0,1,2]).size()\n",
    "corona_locations_multi = corona_locations_multi.loc[~corona_locations_multi.index.duplicated(keep=\"first\")]\n",
    "corona_locations_xarray = corona_locations_multi.to_xarray()\n",
    "corona_locations_xarray = corona_locations_xarray.fillna(0)\n",
    "corona_locations_xarray"
   ]
  },
  {
   "cell_type": "code",
   "execution_count": 149,
   "metadata": {},
   "outputs": [
    {
     "data": {
      "text/html": [
       "<pre>&lt;xarray.DataArray &#x27;count&#x27; ()&gt;\n",
       "array(0.00172136)</pre>"
      ],
      "text/plain": [
       "<xarray.DataArray 'count' ()>\n",
       "array(0.00172136)"
      ]
     },
     "execution_count": 149,
     "metadata": {},
     "output_type": "execute_result"
    }
   ],
   "source": [
    "corona_locations_xarray[\"count\"].mean()"
   ]
  },
  {
   "cell_type": "markdown",
   "metadata": {},
   "source": [
    "# Save the xarray as a netcdf file\n",
    "**Warning:** Compute intensive, going to stress your CPU and memory!\n",
    "- **Error:** module 'dask.base' has no attribute 'get_scheduler'\n",
    "- **Note:** We had to update dask to version '2.12.0'"
   ]
  },
  {
   "cell_type": "code",
   "execution_count": 150,
   "metadata": {},
   "outputs": [],
   "source": [
    "corona_locations_xarray.to_netcdf(\"{}/corona_locations_{}.gkg.nc\".format(tempfile.gettempdir(), date.today().strftime(\"%Y%m%d\"), compute=True))\n",
    "\n",
    "del corona_locations\n",
    "del corona_locations_multi\n",
    "del corona_locations_xarray"
   ]
  },
  {
   "cell_type": "code",
   "execution_count": null,
   "metadata": {},
   "outputs": [],
   "source": []
  }
 ],
 "metadata": {
  "kernelspec": {
   "display_name": "Python 3",
   "language": "python",
   "name": "python3"
  },
  "language_info": {
   "codemirror_mode": {
    "name": "ipython",
    "version": 3
   },
   "file_extension": ".py",
   "mimetype": "text/x-python",
   "name": "python",
   "nbconvert_exporter": "python",
   "pygments_lexer": "ipython3",
   "version": "3.6.4"
  }
 },
 "nbformat": 4,
 "nbformat_minor": 2
}
