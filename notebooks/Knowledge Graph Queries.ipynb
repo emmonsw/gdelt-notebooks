{
 "cells": [
  {
   "cell_type": "markdown",
   "metadata": {},
   "source": [
    "# Requirements"
   ]
  },
  {
   "cell_type": "code",
   "execution_count": 1,
   "metadata": {},
   "outputs": [
    {
     "name": "stdout",
     "output_type": "stream",
     "text": [
      "Collecting gdelt\n",
      "  Downloading https://files.pythonhosted.org/packages/65/f9/a3d5111c8f17334b1752c32aedaab0d01ab4324bf26417bd41890d5b25d0/gdelt-0.1.10.6.1-py2.py3-none-any.whl (773kB)\n",
      "Requirement already satisfied: numpy in c:\\users\\jts\\appdata\\local\\continuum\\anaconda3\\lib\\site-packages (from gdelt) (1.16.4)\n",
      "Requirement already satisfied: pandas>=0.20.3 in c:\\users\\jts\\appdata\\local\\continuum\\anaconda3\\lib\\site-packages (from gdelt) (0.24.2)\n",
      "Requirement already satisfied: requests in c:\\users\\jts\\appdata\\local\\continuum\\anaconda3\\lib\\site-packages (from gdelt) (2.22.0)\n",
      "Requirement already satisfied: python-dateutil in c:\\users\\jts\\appdata\\local\\continuum\\anaconda3\\lib\\site-packages (from gdelt) (2.8.0)\n",
      "Requirement already satisfied: pytz>=2011k in c:\\users\\jts\\appdata\\local\\continuum\\anaconda3\\lib\\site-packages (from pandas>=0.20.3->gdelt) (2019.1)\n",
      "Requirement already satisfied: urllib3!=1.25.0,!=1.25.1,<1.26,>=1.21.1 in c:\\users\\jts\\appdata\\local\\continuum\\anaconda3\\lib\\site-packages (from requests->gdelt) (1.24.2)\n",
      "Requirement already satisfied: certifi>=2017.4.17 in c:\\users\\jts\\appdata\\local\\continuum\\anaconda3\\lib\\site-packages (from requests->gdelt) (2019.9.11)\n",
      "Requirement already satisfied: idna<2.9,>=2.5 in c:\\users\\jts\\appdata\\local\\continuum\\anaconda3\\lib\\site-packages (from requests->gdelt) (2.8)\n",
      "Requirement already satisfied: chardet<3.1.0,>=3.0.2 in c:\\users\\jts\\appdata\\local\\continuum\\anaconda3\\lib\\site-packages (from requests->gdelt) (3.0.4)\n",
      "Requirement already satisfied: six>=1.5 in c:\\users\\jts\\appdata\\roaming\\python\\python37\\site-packages (from python-dateutil->gdelt) (1.12.0)\n",
      "Installing collected packages: gdelt\n",
      "Successfully installed gdelt-0.1.10.6\n"
     ]
    }
   ],
   "source": [
    "!pip install --user gdelt"
   ]
  },
  {
   "cell_type": "markdown",
   "metadata": {},
   "source": [
    "# Import modules"
   ]
  },
  {
   "cell_type": "code",
   "execution_count": 2,
   "metadata": {},
   "outputs": [],
   "source": [
    "from datetime import date, timedelta\n",
    "from gdelt import gdelt as gdelt_client\n",
    "import matplotlib.pyplot as plot\n",
    "import seaborn"
   ]
  },
  {
   "cell_type": "markdown",
   "metadata": {},
   "source": [
    "# Query the knowledge graph"
   ]
  },
  {
   "cell_type": "code",
   "execution_count": 3,
   "metadata": {},
   "outputs": [],
   "source": [
    "def get_graph(date):\n",
    "    client = gdelt_client(version=2)\n",
    "    events = client.Search(date.strftime(\"%Y %m %d\"), table=\"gkg\", coverage=False)\n",
    "    del client\n",
    "    return events\n",
    "\n",
    "def get_today_graph():\n",
    "    return get_graph(date.today())\n",
    "\n",
    "def get_yesterday_graph():\n",
    "    return get_graph(date.today()-timedelta(days=1))"
   ]
  },
  {
   "cell_type": "code",
   "execution_count": 13,
   "metadata": {},
   "outputs": [],
   "source": [
    "date = date.today()-timedelta(days=60)\n",
    "graph = get_graph(date)\n",
    "corona_records = graph.loc[graph[\"V2Themes\"].str.contains(\"TAX_DISEASE_CORONAVIRUS\", na=False)]"
   ]
  },
  {
   "cell_type": "code",
   "execution_count": 14,
   "metadata": {},
   "outputs": [],
   "source": [
    "corona_records.to_csv(\"./corona_{}.csv\".format(date.strftime(\"%Y%m%d\")), index=False)"
   ]
  },
  {
   "cell_type": "code",
   "execution_count": null,
   "metadata": {},
   "outputs": [],
   "source": []
  }
 ],
 "metadata": {
  "kernelspec": {
   "display_name": "Python 3",
   "language": "python",
   "name": "python3"
  },
  "language_info": {
   "codemirror_mode": {
    "name": "ipython",
    "version": 3
   },
   "file_extension": ".py",
   "mimetype": "text/x-python",
   "name": "python",
   "nbconvert_exporter": "python",
   "pygments_lexer": "ipython3",
   "version": "3.7.3"
  }
 },
 "nbformat": 4,
 "nbformat_minor": 2
}
