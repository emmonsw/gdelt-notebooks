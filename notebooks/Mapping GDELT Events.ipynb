{
 "cells": [
  {
   "cell_type": "markdown",
   "metadata": {},
   "source": [
    "# Mapping GDELT Events"
   ]
  },
  {
   "cell_type": "markdown",
   "metadata": {},
   "source": [
    "## Requirements"
   ]
  },
  {
   "cell_type": "code",
   "execution_count": null,
   "metadata": {},
   "outputs": [],
   "source": [
    "!pip install --user arcgis\n",
    "!pip install --user gdelt"
   ]
  },
  {
   "cell_type": "markdown",
   "metadata": {},
   "source": [
    "## Import modules"
   ]
  },
  {
   "cell_type": "code",
   "execution_count": 76,
   "metadata": {},
   "outputs": [],
   "source": [
    "from arcgis.gis import GIS\n",
    "from arcgis.features import GeoAccessor as geo\n",
    "from datetime import date\n",
    "from gdelt import gdelt as gdelt_client\n",
    "import matplotlib.pyplot as plot\n",
    "import seaborn"
   ]
  },
  {
   "cell_type": "markdown",
   "metadata": {},
   "source": [
    "## Getting GDELT events of today\n",
    "Date must be formatted as a string."
   ]
  },
  {
   "cell_type": "code",
   "execution_count": 86,
   "metadata": {},
   "outputs": [],
   "source": [
    "def get_events(date):\n",
    "    client = gdelt_client(version=2)\n",
    "    events = client.Search(date.strftime(\"%Y %m %d\"), table=\"events\", coverage=True)\n",
    "    del client\n",
    "    return events\n",
    "\n",
    "def get_today_events():\n",
    "    return get_events(date.today())"
   ]
  },
  {
   "cell_type": "code",
   "execution_count": 87,
   "metadata": {},
   "outputs": [
    {
     "data": {
      "text/html": [
       "<div>\n",
       "<style scoped>\n",
       "    .dataframe tbody tr th:only-of-type {\n",
       "        vertical-align: middle;\n",
       "    }\n",
       "\n",
       "    .dataframe tbody tr th {\n",
       "        vertical-align: top;\n",
       "    }\n",
       "\n",
       "    .dataframe thead th {\n",
       "        text-align: right;\n",
       "    }\n",
       "</style>\n",
       "<table border=\"1\" class=\"dataframe\">\n",
       "  <thead>\n",
       "    <tr style=\"text-align: right;\">\n",
       "      <th></th>\n",
       "      <th>GLOBALEVENTID</th>\n",
       "      <th>SQLDATE</th>\n",
       "      <th>MonthYear</th>\n",
       "      <th>Year</th>\n",
       "      <th>FractionDate</th>\n",
       "      <th>IsRootEvent</th>\n",
       "      <th>QuadClass</th>\n",
       "      <th>GoldsteinScale</th>\n",
       "      <th>NumMentions</th>\n",
       "      <th>NumSources</th>\n",
       "      <th>...</th>\n",
       "      <th>Actor1Geo_Type</th>\n",
       "      <th>Actor1Geo_Lat</th>\n",
       "      <th>Actor1Geo_Long</th>\n",
       "      <th>Actor2Geo_Type</th>\n",
       "      <th>Actor2Geo_Lat</th>\n",
       "      <th>Actor2Geo_Long</th>\n",
       "      <th>ActionGeo_Type</th>\n",
       "      <th>ActionGeo_Lat</th>\n",
       "      <th>ActionGeo_Long</th>\n",
       "      <th>DATEADDED</th>\n",
       "    </tr>\n",
       "  </thead>\n",
       "  <tbody>\n",
       "    <tr>\n",
       "      <th>count</th>\n",
       "      <td>5.514100e+04</td>\n",
       "      <td>5.514100e+04</td>\n",
       "      <td>55141.000000</td>\n",
       "      <td>55141.000000</td>\n",
       "      <td>55141.000000</td>\n",
       "      <td>55141.000000</td>\n",
       "      <td>55141.000000</td>\n",
       "      <td>55141.000000</td>\n",
       "      <td>55141.000000</td>\n",
       "      <td>55141.000000</td>\n",
       "      <td>...</td>\n",
       "      <td>55141.000000</td>\n",
       "      <td>48005.000000</td>\n",
       "      <td>48005.000000</td>\n",
       "      <td>55141.000000</td>\n",
       "      <td>37668.000000</td>\n",
       "      <td>37668.000000</td>\n",
       "      <td>55141.000000</td>\n",
       "      <td>53750.000000</td>\n",
       "      <td>53750.000000</td>\n",
       "      <td>5.514100e+04</td>\n",
       "    </tr>\n",
       "    <tr>\n",
       "      <th>mean</th>\n",
       "      <td>9.109999e+08</td>\n",
       "      <td>2.020021e+07</td>\n",
       "      <td>202002.042056</td>\n",
       "      <td>2019.990479</td>\n",
       "      <td>2020.176114</td>\n",
       "      <td>0.551350</td>\n",
       "      <td>1.698736</td>\n",
       "      <td>0.746049</td>\n",
       "      <td>4.954118</td>\n",
       "      <td>1.071254</td>\n",
       "      <td>...</td>\n",
       "      <td>2.458407</td>\n",
       "      <td>30.737459</td>\n",
       "      <td>-4.422312</td>\n",
       "      <td>1.914274</td>\n",
       "      <td>30.854447</td>\n",
       "      <td>-2.081389</td>\n",
       "      <td>2.765819</td>\n",
       "      <td>30.647338</td>\n",
       "      <td>-5.401693</td>\n",
       "      <td>2.020031e+13</td>\n",
       "    </tr>\n",
       "    <tr>\n",
       "      <th>std</th>\n",
       "      <td>2.297665e+04</td>\n",
       "      <td>1.126601e+03</td>\n",
       "      <td>11.266966</td>\n",
       "      <td>0.112672</td>\n",
       "      <td>0.112571</td>\n",
       "      <td>0.497361</td>\n",
       "      <td>1.087815</td>\n",
       "      <td>4.380981</td>\n",
       "      <td>4.536820</td>\n",
       "      <td>0.550778</td>\n",
       "      <td>...</td>\n",
       "      <td>1.507687</td>\n",
       "      <td>19.785698</td>\n",
       "      <td>79.733553</td>\n",
       "      <td>1.676502</td>\n",
       "      <td>19.729373</td>\n",
       "      <td>78.913764</td>\n",
       "      <td>1.312028</td>\n",
       "      <td>19.913036</td>\n",
       "      <td>80.154098</td>\n",
       "      <td>4.197677e+04</td>\n",
       "    </tr>\n",
       "    <tr>\n",
       "      <th>min</th>\n",
       "      <td>9.109620e+08</td>\n",
       "      <td>2.010031e+07</td>\n",
       "      <td>201003.000000</td>\n",
       "      <td>2010.000000</td>\n",
       "      <td>2010.194500</td>\n",
       "      <td>0.000000</td>\n",
       "      <td>1.000000</td>\n",
       "      <td>-10.000000</td>\n",
       "      <td>1.000000</td>\n",
       "      <td>1.000000</td>\n",
       "      <td>...</td>\n",
       "      <td>0.000000</td>\n",
       "      <td>-85.622100</td>\n",
       "      <td>-177.900000</td>\n",
       "      <td>0.000000</td>\n",
       "      <td>-85.622100</td>\n",
       "      <td>-177.900000</td>\n",
       "      <td>0.000000</td>\n",
       "      <td>-85.622100</td>\n",
       "      <td>-177.900000</td>\n",
       "      <td>2.020031e+13</td>\n",
       "    </tr>\n",
       "    <tr>\n",
       "      <th>25%</th>\n",
       "      <td>9.109801e+08</td>\n",
       "      <td>2.020031e+07</td>\n",
       "      <td>202003.000000</td>\n",
       "      <td>2020.000000</td>\n",
       "      <td>2020.186300</td>\n",
       "      <td>0.000000</td>\n",
       "      <td>1.000000</td>\n",
       "      <td>-2.000000</td>\n",
       "      <td>2.000000</td>\n",
       "      <td>1.000000</td>\n",
       "      <td>...</td>\n",
       "      <td>1.000000</td>\n",
       "      <td>25.252200</td>\n",
       "      <td>-80.072800</td>\n",
       "      <td>0.000000</td>\n",
       "      <td>25.286700</td>\n",
       "      <td>-78.205700</td>\n",
       "      <td>2.000000</td>\n",
       "      <td>25.252200</td>\n",
       "      <td>-80.906600</td>\n",
       "      <td>2.020031e+13</td>\n",
       "    </tr>\n",
       "    <tr>\n",
       "      <th>50%</th>\n",
       "      <td>9.109988e+08</td>\n",
       "      <td>2.020031e+07</td>\n",
       "      <td>202003.000000</td>\n",
       "      <td>2020.000000</td>\n",
       "      <td>2020.186300</td>\n",
       "      <td>1.000000</td>\n",
       "      <td>1.000000</td>\n",
       "      <td>1.900000</td>\n",
       "      <td>4.000000</td>\n",
       "      <td>1.000000</td>\n",
       "      <td>...</td>\n",
       "      <td>3.000000</td>\n",
       "      <td>35.750000</td>\n",
       "      <td>3.366670</td>\n",
       "      <td>2.000000</td>\n",
       "      <td>35.750000</td>\n",
       "      <td>6.000000</td>\n",
       "      <td>3.000000</td>\n",
       "      <td>35.744900</td>\n",
       "      <td>2.000000</td>\n",
       "      <td>2.020031e+13</td>\n",
       "    </tr>\n",
       "    <tr>\n",
       "      <th>75%</th>\n",
       "      <td>9.110190e+08</td>\n",
       "      <td>2.020031e+07</td>\n",
       "      <td>202003.000000</td>\n",
       "      <td>2020.000000</td>\n",
       "      <td>2020.186300</td>\n",
       "      <td>1.000000</td>\n",
       "      <td>2.000000</td>\n",
       "      <td>3.400000</td>\n",
       "      <td>7.000000</td>\n",
       "      <td>1.000000</td>\n",
       "      <td>...</td>\n",
       "      <td>4.000000</td>\n",
       "      <td>42.149700</td>\n",
       "      <td>53.000000</td>\n",
       "      <td>4.000000</td>\n",
       "      <td>42.149700</td>\n",
       "      <td>53.000000</td>\n",
       "      <td>4.000000</td>\n",
       "      <td>42.149700</td>\n",
       "      <td>53.000000</td>\n",
       "      <td>2.020031e+13</td>\n",
       "    </tr>\n",
       "    <tr>\n",
       "      <th>max</th>\n",
       "      <td>9.110414e+08</td>\n",
       "      <td>2.020031e+07</td>\n",
       "      <td>202003.000000</td>\n",
       "      <td>2020.000000</td>\n",
       "      <td>2020.186300</td>\n",
       "      <td>1.000000</td>\n",
       "      <td>4.000000</td>\n",
       "      <td>10.000000</td>\n",
       "      <td>114.000000</td>\n",
       "      <td>16.000000</td>\n",
       "      <td>...</td>\n",
       "      <td>5.000000</td>\n",
       "      <td>72.000000</td>\n",
       "      <td>178.133000</td>\n",
       "      <td>5.000000</td>\n",
       "      <td>72.000000</td>\n",
       "      <td>178.133000</td>\n",
       "      <td>5.000000</td>\n",
       "      <td>72.000000</td>\n",
       "      <td>178.133000</td>\n",
       "      <td>2.020031e+13</td>\n",
       "    </tr>\n",
       "  </tbody>\n",
       "</table>\n",
       "<p>8 rows × 22 columns</p>\n",
       "</div>"
      ],
      "text/plain": [
       "       GLOBALEVENTID       SQLDATE      MonthYear          Year  FractionDate  \\\n",
       "count   5.514100e+04  5.514100e+04   55141.000000  55141.000000  55141.000000   \n",
       "mean    9.109999e+08  2.020021e+07  202002.042056   2019.990479   2020.176114   \n",
       "std     2.297665e+04  1.126601e+03      11.266966      0.112672      0.112571   \n",
       "min     9.109620e+08  2.010031e+07  201003.000000   2010.000000   2010.194500   \n",
       "25%     9.109801e+08  2.020031e+07  202003.000000   2020.000000   2020.186300   \n",
       "50%     9.109988e+08  2.020031e+07  202003.000000   2020.000000   2020.186300   \n",
       "75%     9.110190e+08  2.020031e+07  202003.000000   2020.000000   2020.186300   \n",
       "max     9.110414e+08  2.020031e+07  202003.000000   2020.000000   2020.186300   \n",
       "\n",
       "        IsRootEvent     QuadClass  GoldsteinScale   NumMentions    NumSources  \\\n",
       "count  55141.000000  55141.000000    55141.000000  55141.000000  55141.000000   \n",
       "mean       0.551350      1.698736        0.746049      4.954118      1.071254   \n",
       "std        0.497361      1.087815        4.380981      4.536820      0.550778   \n",
       "min        0.000000      1.000000      -10.000000      1.000000      1.000000   \n",
       "25%        0.000000      1.000000       -2.000000      2.000000      1.000000   \n",
       "50%        1.000000      1.000000        1.900000      4.000000      1.000000   \n",
       "75%        1.000000      2.000000        3.400000      7.000000      1.000000   \n",
       "max        1.000000      4.000000       10.000000    114.000000     16.000000   \n",
       "\n",
       "       ...  Actor1Geo_Type  Actor1Geo_Lat  Actor1Geo_Long  Actor2Geo_Type  \\\n",
       "count  ...    55141.000000   48005.000000    48005.000000    55141.000000   \n",
       "mean   ...        2.458407      30.737459       -4.422312        1.914274   \n",
       "std    ...        1.507687      19.785698       79.733553        1.676502   \n",
       "min    ...        0.000000     -85.622100     -177.900000        0.000000   \n",
       "25%    ...        1.000000      25.252200      -80.072800        0.000000   \n",
       "50%    ...        3.000000      35.750000        3.366670        2.000000   \n",
       "75%    ...        4.000000      42.149700       53.000000        4.000000   \n",
       "max    ...        5.000000      72.000000      178.133000        5.000000   \n",
       "\n",
       "       Actor2Geo_Lat  Actor2Geo_Long  ActionGeo_Type  ActionGeo_Lat  \\\n",
       "count   37668.000000    37668.000000    55141.000000   53750.000000   \n",
       "mean       30.854447       -2.081389        2.765819      30.647338   \n",
       "std        19.729373       78.913764        1.312028      19.913036   \n",
       "min       -85.622100     -177.900000        0.000000     -85.622100   \n",
       "25%        25.286700      -78.205700        2.000000      25.252200   \n",
       "50%        35.750000        6.000000        3.000000      35.744900   \n",
       "75%        42.149700       53.000000        4.000000      42.149700   \n",
       "max        72.000000      178.133000        5.000000      72.000000   \n",
       "\n",
       "       ActionGeo_Long     DATEADDED  \n",
       "count    53750.000000  5.514100e+04  \n",
       "mean        -5.401693  2.020031e+13  \n",
       "std         80.154098  4.197677e+04  \n",
       "min       -177.900000  2.020031e+13  \n",
       "25%        -80.906600  2.020031e+13  \n",
       "50%          2.000000  2.020031e+13  \n",
       "75%         53.000000  2.020031e+13  \n",
       "max        178.133000  2.020031e+13  \n",
       "\n",
       "[8 rows x 22 columns]"
      ]
     },
     "execution_count": 87,
     "metadata": {},
     "output_type": "execute_result"
    }
   ],
   "source": [
    "events = get_today_events()\n",
    "events.describe()"
   ]
  },
  {
   "cell_type": "markdown",
   "metadata": {},
   "source": [
    "## Plot the number of sources\n",
    "We are using a logarithmic scale for plotting the number of sources."
   ]
  },
  {
   "cell_type": "code",
   "execution_count": 88,
   "metadata": {},
   "outputs": [
    {
     "data": {
      "text/plain": [
       "Text(0,0.5,'Count')"
      ]
     },
     "execution_count": 88,
     "metadata": {},
     "output_type": "execute_result"
    },
    {
     "data": {
      "image/png": "[encoded data removed]",
      "text/plain": [
       "<Figure size 1080x504 with 1 Axes>"
      ]
     },
     "metadata": {},
     "output_type": "display_data"
    }
   ],
   "source": [
    "seaborn.set_style(\"whitegrid\")\n",
    "plot.rcParams[\"figure.figsize\"] = (15, 7)\n",
    "\n",
    "figure, axis = plot.subplots()\n",
    "events[\"NumSources\"].hist(ax=axis, bins=100)\n",
    "axis.set_yscale(\"log\")\n",
    "axis.tick_params(labelsize=14)\n",
    "axis.set_xlabel(\"Sources\", fontsize=14)\n",
    "axis.set_ylabel(\"Count\", fontsize=14)"
   ]
  },
  {
   "cell_type": "markdown",
   "metadata": {},
   "source": [
    "## Connect to ArcGIS Online anonymously"
   ]
  },
  {
   "cell_type": "code",
   "execution_count": 89,
   "metadata": {},
   "outputs": [],
   "source": [
    "gis = GIS()"
   ]
  },
  {
   "cell_type": "markdown",
   "metadata": {},
   "source": [
    "## Display a map of europe\n",
    "***Hint:*** *map.basemaps shows a list of all available basemaps*"
   ]
  },
  {
   "cell_type": "code",
   "execution_count": 90,
   "metadata": {},
   "outputs": [],
   "source": [
    "def get_europe_map():\n",
    "    focus_map = gis.map(\"Europe\")\n",
    "    focus_map.basemap = \"dark-gray-vector\"\n",
    "    return focus_map\n",
    "\n",
    "focus_map = get_europe_map()"
   ]
  },
  {
   "cell_type": "code",
   "execution_count": 91,
   "metadata": {
    "scrolled": true
   },
   "outputs": [
    {
     "data": {
      "application/vnd.jupyter.widget-view+json": {
       "model_id": "ad8b29d36acc4eae94254bc465d99e30",
       "version_major": 2,
       "version_minor": 0
      },
      "text/html": [
       "<p>Failed to display Jupyter Widget of type <code>MapView</code>.</p>\n",
       "<p>\n",
       "  If you're reading this message in the Jupyter Notebook or JupyterLab Notebook, it may mean\n",
       "  that the widgets JavaScript is still loading. If this message persists, it\n",
       "  likely means that the widgets JavaScript library is either not installed or\n",
       "  not enabled. See the <a href=\"https://ipywidgets.readthedocs.io/en/stable/user_install.html\">Jupyter\n",
       "  Widgets Documentation</a> for setup instructions.\n",
       "</p>\n",
       "<p>\n",
       "  If you're reading this message in another frontend (for example, a static\n",
       "  rendering on GitHub or <a href=\"https://nbviewer.jupyter.org/\">NBViewer</a>),\n",
       "  it may mean that your frontend doesn't currently support widgets.\n",
       "</p>\n"
      ],
      "text/plain": [
       "MapView(layout=Layout(height='400px', width='100%'))"
      ]
     },
     "metadata": {},
     "output_type": "display_data"
    },
    {
     "data": {
      "text/html": [
       "<div class=\"map-static-img-preview-75d39a9a-edf2-447b-8136-31169ccd41ee\"><img src=\"\"></img></div>"
      ],
      "text/plain": [
       "<IPython.core.display.HTML object>"
      ]
     },
     "metadata": {},
     "output_type": "display_data"
    }
   ],
   "source": [
    "focus_map"
   ]
  },
  {
   "cell_type": "markdown",
   "metadata": {},
   "source": [
    "## Create a spatial dataframe for mapping the events from the pandas dataframe\n",
    "We are using the ActionGeo_Long and ActionGeo_Lat for locating the events. The spatial reference is WGS84 having EPSG-Code of 4326.\n",
    "- Extract only the columns relevant for mapping and having a simple type (e.g. int64, float64)\n",
    "- We are dropping all records having \"not a number\" for latitude or longitude\n",
    "- We are slicing and creating a deep copy from the events dataframe"
   ]
  },
  {
   "cell_type": "code",
   "execution_count": 97,
   "metadata": {
    "scrolled": true
   },
   "outputs": [
    {
     "name": "stdout",
     "output_type": "stream",
     "text": [
      "<class 'pandas.core.frame.DataFrame'>\n",
      "Int64Index: 53750 entries, 0 to 55140\n",
      "Data columns (total 7 columns):\n",
      " #   Column              Non-Null Count  Dtype   \n",
      "---  ------              --------------  -----   \n",
      " 0   GLOBALEVENTID       53750 non-null  int64   \n",
      " 1   ActionGeo_FullName  53750 non-null  object  \n",
      " 2   ActionGeo_Long      53750 non-null  float64 \n",
      " 3   ActionGeo_Lat       53750 non-null  float64 \n",
      " 4   NumMentions         53750 non-null  int64   \n",
      " 5   SOURCEURL           53750 non-null  object  \n",
      " 6   SHAPE               53750 non-null  geometry\n",
      "dtypes: float64(2), geometry(1), int64(2), object(2)\n",
      "memory usage: 3.3+ MB\n"
     ]
    }
   ],
   "source": [
    "mapping_events = events[[\"GLOBALEVENTID\", \n",
    "                         \"ActionGeo_FullName\", \n",
    "                         \"ActionGeo_Long\", \n",
    "                         \"ActionGeo_Lat\", \n",
    "                         \"NumMentions\", \n",
    "                         \"SOURCEURL\"]].dropna(subset=[\"ActionGeo_Lat\", \"ActionGeo_Long\"]) \n",
    "geo_events = geo.from_xy(mapping_events, x_column=\"ActionGeo_Long\", y_column=\"ActionGeo_Lat\", sr=4326)\n",
    "geo_events.info()"
   ]
  },
  {
   "cell_type": "markdown",
   "metadata": {},
   "source": [
    "## Display a subset of GDELT events on the map\n",
    "- Sort the events by using the number of mentions in all source documents. The number of mentions could be used to determine how important the event is. Multiple references within a single document are counted too."
   ]
  },
  {
   "cell_type": "code",
   "execution_count": 98,
   "metadata": {},
   "outputs": [
    {
     "data": {
      "application/vnd.jupyter.widget-view+json": {
       "model_id": "a2b0b95a9e344a58bbbf1f0b53ba75f7",
       "version_major": 2,
       "version_minor": 0
      },
      "text/html": [
       "<p>Failed to display Jupyter Widget of type <code>MapView</code>.</p>\n",
       "<p>\n",
       "  If you're reading this message in the Jupyter Notebook or JupyterLab Notebook, it may mean\n",
       "  that the widgets JavaScript is still loading. If this message persists, it\n",
       "  likely means that the widgets JavaScript library is either not installed or\n",
       "  not enabled. See the <a href=\"https://ipywidgets.readthedocs.io/en/stable/user_install.html\">Jupyter\n",
       "  Widgets Documentation</a> for setup instructions.\n",
       "</p>\n",
       "<p>\n",
       "  If you're reading this message in another frontend (for example, a static\n",
       "  rendering on GitHub or <a href=\"https://nbviewer.jupyter.org/\">NBViewer</a>),\n",
       "  it may mean that your frontend doesn't currently support widgets.\n",
       "</p>\n"
      ],
      "text/plain": [
       "MapView(layout=Layout(height='400px', width='100%'))"
      ]
     },
     "metadata": {},
     "output_type": "display_data"
    },
    {
     "data": {
      "text/html": [
       "<div class=\"map-static-img-preview-0424b3aa-8f71-4af5-8d68-a9fff3a83842\"><img src=\"\"></img></div>"
      ],
      "text/plain": [
       "<IPython.core.display.HTML object>"
      ]
     },
     "metadata": {},
     "output_type": "display_data"
    }
   ],
   "source": [
    "del focus_map\n",
    "focus_map = get_europe_map()\n",
    "top_mapping_events = mapping_events.sort_values(by=\"NumMentions\", ascending=False).head(n=1000)\n",
    "top_geo_events = geo.from_xy(top_mapping_events, x_column=\"ActionGeo_Long\", y_column=\"ActionGeo_Lat\", sr=4326)\n",
    "top_geo_events.spatial.plot(map_widget=focus_map)\n",
    "focus_map"
   ]
  },
  {
   "cell_type": "markdown",
   "metadata": {},
   "source": [
    "## Display the GDELT events using a heatmap\n",
    "We are creating a new map widget and convert all \"mapping events\" to a spatial data frame."
   ]
  },
  {
   "cell_type": "code",
   "execution_count": 99,
   "metadata": {},
   "outputs": [
    {
     "data": {
      "application/vnd.jupyter.widget-view+json": {
       "model_id": "3647a18af10a4858b87397ff24111731",
       "version_major": 2,
       "version_minor": 0
      },
      "text/html": [
       "<p>Failed to display Jupyter Widget of type <code>MapView</code>.</p>\n",
       "<p>\n",
       "  If you're reading this message in the Jupyter Notebook or JupyterLab Notebook, it may mean\n",
       "  that the widgets JavaScript is still loading. If this message persists, it\n",
       "  likely means that the widgets JavaScript library is either not installed or\n",
       "  not enabled. See the <a href=\"https://ipywidgets.readthedocs.io/en/stable/user_install.html\">Jupyter\n",
       "  Widgets Documentation</a> for setup instructions.\n",
       "</p>\n",
       "<p>\n",
       "  If you're reading this message in another frontend (for example, a static\n",
       "  rendering on GitHub or <a href=\"https://nbviewer.jupyter.org/\">NBViewer</a>),\n",
       "  it may mean that your frontend doesn't currently support widgets.\n",
       "</p>\n"
      ],
      "text/plain": [
       "MapView(layout=Layout(height='400px', width='100%'))"
      ]
     },
     "metadata": {},
     "output_type": "display_data"
    },
    {
     "data": {
      "text/html": [
       "<div class=\"map-static-img-preview-dc4a648a-a7fe-4ef5-b88e-76940dffc5ec\"><img src=\"\"></img></div>"
      ],
      "text/plain": [
       "<IPython.core.display.HTML object>"
      ]
     },
     "metadata": {},
     "output_type": "display_data"
    }
   ],
   "source": [
    "del heat_focus_map\n",
    "heat_focus_map = get_europe_map()\n",
    "geo_events.spatial.plot(map_widget=heat_focus_map, renderer_type=\"h\")\n",
    "heat_focus_map"
   ]
  },
  {
   "cell_type": "code",
   "execution_count": null,
   "metadata": {},
   "outputs": [],
   "source": []
  }
 ],
 "metadata": {
  "kernelspec": {
   "display_name": "Python 3",
   "language": "python",
   "name": "python3"
  },
  "language_info": {
   "codemirror_mode": {
    "name": "ipython",
    "version": 3
   },
   "file_extension": ".py",
   "mimetype": "text/x-python",
   "name": "python",
   "nbconvert_exporter": "python",
   "pygments_lexer": "ipython3",
   "version": "3.6.4"
  }
 },
 "nbformat": 4,
 "nbformat_minor": 2
}
