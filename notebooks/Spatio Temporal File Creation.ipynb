{
 "cells": [
  {
   "cell_type": "markdown",
   "metadata": {},
   "source": [
    "# Spatio Temporal Files using extracted locations from the GDELT Knowledge Graph\n",
    "We are reading the CSV files into a pandas dataframe.\n",
    "The pandas dataframes are converted into a netcdf file using latitude, longitude and time.\n",
    "We are using xarray for the conversion from dataframe to netcdf."
   ]
  },
  {
   "cell_type": "code",
   "execution_count": 13,
   "metadata": {},
   "outputs": [
    {
     "name": "stdout",
     "output_type": "stream",
     "text": [
      "Requirement already satisfied: netcdf4 in c:\\users\\developer\\appdata\\roaming\\python\\python36\\site-packages (1.5.3)\n",
      "Requirement already satisfied: numpy>=1.7 in c:\\users\\developer\\appdata\\roaming\\python\\python36\\site-packages (from netcdf4) (1.18.1)\n",
      "Requirement already satisfied: cftime in c:\\users\\developer\\appdata\\roaming\\python\\python36\\site-packages (from netcdf4) (1.1.0)\n"
     ]
    },
    {
     "name": "stderr",
     "output_type": "stream",
     "text": [
      "You are using pip version 18.1, however version 20.0.2 is available.\n",
      "You should consider upgrading via the 'python -m pip install --upgrade pip' command.\n"
     ]
    },
    {
     "name": "stdout",
     "output_type": "stream",
     "text": [
      "Collecting xarray\n",
      "  Downloading https://files.pythonhosted.org/packages/e3/25/cc8ccc40d21638ae8514ce2aef1f1db3036e31c2adea797c7501302726fa/xarray-0.15.0-py3-none-any.whl (650kB)\n",
      "Requirement already satisfied: numpy>=1.15 in c:\\users\\developer\\appdata\\roaming\\python\\python36\\site-packages (from xarray) (1.18.1)\n",
      "Requirement already satisfied: pandas>=0.25 in c:\\users\\developer\\appdata\\roaming\\python\\python36\\site-packages (from xarray) (1.0.1)\n",
      "Requirement already satisfied: python-dateutil>=2.6.1 in c:\\bin\\anaconda3\\lib\\site-packages (from pandas>=0.25->xarray) (2.6.1)\n",
      "Requirement already satisfied: pytz>=2017.2 in c:\\bin\\anaconda3\\lib\\site-packages (from pandas>=0.25->xarray) (2017.3)\n",
      "Requirement already satisfied: six>=1.5 in c:\\bin\\anaconda3\\lib\\site-packages (from python-dateutil>=2.6.1->pandas>=0.25->xarray) (1.11.0)\n",
      "Installing collected packages: xarray\n",
      "Successfully installed xarray-0.15.0\n"
     ]
    },
    {
     "name": "stderr",
     "output_type": "stream",
     "text": [
      "You are using pip version 18.1, however version 20.0.2 is available.\n",
      "You should consider upgrading via the 'python -m pip install --upgrade pip' command.\n"
     ]
    }
   ],
   "source": [
    "!pip install --user netcdf4\n",
    "!pip install --user xarray"
   ]
  },
  {
   "cell_type": "code",
   "execution_count": 1,
   "metadata": {},
   "outputs": [
    {
     "name": "stderr",
     "output_type": "stream",
     "text": [
      "C:\\bin\\Anaconda3\\lib\\site-packages\\distributed\\config.py:63: YAMLLoadWarning: calling yaml.load() without Loader=... is deprecated, as the default Loader is unsafe. Please read https://msg.pyyaml.org/load for full details.\n",
      "  config.update(yaml.load(text))\n"
     ]
    }
   ],
   "source": [
    "from datetime import date\n",
    "import os\n",
    "import pandas\n",
    "import tempfile\n",
    "import xarray"
   ]
  },
  {
   "cell_type": "markdown",
   "metadata": {},
   "source": [
    "# Read the extracted locations from the temp folder into a dataframe"
   ]
  },
  {
   "cell_type": "code",
   "execution_count": 2,
   "metadata": {},
   "outputs": [],
   "source": [
    "def read_gkg_locations_from_temp():\n",
    "    gkg_locations = None\n",
    "    with os.scandir(tempfile.gettempdir()) as dir_scanner:\n",
    "        for dir_entry in dir_scanner:\n",
    "            if dir_entry.is_file():\n",
    "                if dir_entry.name.endswith(\".gkg.csv\"):\n",
    "                        gkg_locations_temp = pandas.read_csv(dir_entry.path)\n",
    "                        if gkg_locations:\n",
    "                             pandas.concat([gkg_locations, gkg_locations_temp], axis=0)\n",
    "                        else:\n",
    "                            gkg_locations = gkg_locations_temp\n",
    "    return gkg_locations"
   ]
  },
  {
   "cell_type": "code",
   "execution_count": 3,
   "metadata": {},
   "outputs": [
    {
     "data": {
      "text/html": [
       "<div>\n",
       "<style scoped>\n",
       "    .dataframe tbody tr th:only-of-type {\n",
       "        vertical-align: middle;\n",
       "    }\n",
       "\n",
       "    .dataframe tbody tr th {\n",
       "        vertical-align: top;\n",
       "    }\n",
       "\n",
       "    .dataframe thead th {\n",
       "        text-align: right;\n",
       "    }\n",
       "</style>\n",
       "<table border=\"1\" class=\"dataframe\">\n",
       "  <thead>\n",
       "    <tr style=\"text-align: right;\">\n",
       "      <th></th>\n",
       "      <th>GKGRECORDID</th>\n",
       "      <th>DATE</th>\n",
       "      <th>SourceCollectionIdentifier</th>\n",
       "      <th>SourceCommonName</th>\n",
       "      <th>DocumentIdentifier</th>\n",
       "      <th>Location_Name</th>\n",
       "      <th>Location_Lat</th>\n",
       "      <th>Location_Lon</th>\n",
       "    </tr>\n",
       "  </thead>\n",
       "  <tbody>\n",
       "    <tr>\n",
       "      <th>0</th>\n",
       "      <td>20200213000000-23</td>\n",
       "      <td>20200213000000</td>\n",
       "      <td>1</td>\n",
       "      <td>myanmarnews.net</td>\n",
       "      <td>https://www.myanmarnews.net/news/264003252/cor...</td>\n",
       "      <td>Tokyo, Tokyo, Japan</td>\n",
       "      <td>35.6850</td>\n",
       "      <td>139.75100</td>\n",
       "    </tr>\n",
       "    <tr>\n",
       "      <th>1</th>\n",
       "      <td>20200213000000-23</td>\n",
       "      <td>20200213000000</td>\n",
       "      <td>1</td>\n",
       "      <td>myanmarnews.net</td>\n",
       "      <td>https://www.myanmarnews.net/news/264003252/cor...</td>\n",
       "      <td>Wuhan, Hubei, China</td>\n",
       "      <td>30.5833</td>\n",
       "      <td>114.26700</td>\n",
       "    </tr>\n",
       "    <tr>\n",
       "      <th>2</th>\n",
       "      <td>20200213000000-46</td>\n",
       "      <td>20200213000000</td>\n",
       "      <td>1</td>\n",
       "      <td>northkoreatimes.com</td>\n",
       "      <td>https://www.northkoreatimes.com/news/264003252...</td>\n",
       "      <td>Tokyo, Tokyo, Japan</td>\n",
       "      <td>35.6850</td>\n",
       "      <td>139.75100</td>\n",
       "    </tr>\n",
       "    <tr>\n",
       "      <th>3</th>\n",
       "      <td>20200213000000-46</td>\n",
       "      <td>20200213000000</td>\n",
       "      <td>1</td>\n",
       "      <td>northkoreatimes.com</td>\n",
       "      <td>https://www.northkoreatimes.com/news/264003252...</td>\n",
       "      <td>Wuhan, Hubei, China</td>\n",
       "      <td>30.5833</td>\n",
       "      <td>114.26700</td>\n",
       "    </tr>\n",
       "    <tr>\n",
       "      <th>4</th>\n",
       "      <td>20200213000000-51</td>\n",
       "      <td>20200213000000</td>\n",
       "      <td>1</td>\n",
       "      <td>pittsburghstar.com</td>\n",
       "      <td>https://www.pittsburghstar.com/news/264006117/...</td>\n",
       "      <td>Barcelona, Comunidad Autonoma De Cataluna, Spain</td>\n",
       "      <td>41.3833</td>\n",
       "      <td>2.18333</td>\n",
       "    </tr>\n",
       "  </tbody>\n",
       "</table>\n",
       "</div>"
      ],
      "text/plain": [
       "         GKGRECORDID            DATE  SourceCollectionIdentifier  \\\n",
       "0  20200213000000-23  20200213000000                           1   \n",
       "1  20200213000000-23  20200213000000                           1   \n",
       "2  20200213000000-46  20200213000000                           1   \n",
       "3  20200213000000-46  20200213000000                           1   \n",
       "4  20200213000000-51  20200213000000                           1   \n",
       "\n",
       "      SourceCommonName                                 DocumentIdentifier  \\\n",
       "0      myanmarnews.net  https://www.myanmarnews.net/news/264003252/cor...   \n",
       "1      myanmarnews.net  https://www.myanmarnews.net/news/264003252/cor...   \n",
       "2  northkoreatimes.com  https://www.northkoreatimes.com/news/264003252...   \n",
       "3  northkoreatimes.com  https://www.northkoreatimes.com/news/264003252...   \n",
       "4   pittsburghstar.com  https://www.pittsburghstar.com/news/264006117/...   \n",
       "\n",
       "                                      Location_Name  Location_Lat  \\\n",
       "0                               Tokyo, Tokyo, Japan       35.6850   \n",
       "1                               Wuhan, Hubei, China       30.5833   \n",
       "2                               Tokyo, Tokyo, Japan       35.6850   \n",
       "3                               Wuhan, Hubei, China       30.5833   \n",
       "4  Barcelona, Comunidad Autonoma De Cataluna, Spain       41.3833   \n",
       "\n",
       "   Location_Lon  \n",
       "0     139.75100  \n",
       "1     114.26700  \n",
       "2     139.75100  \n",
       "3     114.26700  \n",
       "4       2.18333  "
      ]
     },
     "execution_count": 3,
     "metadata": {},
     "output_type": "execute_result"
    }
   ],
   "source": [
    "corona_locations = read_gkg_locations_from_temp()\n",
    "corona_locations.head()"
   ]
  },
  {
   "cell_type": "markdown",
   "metadata": {},
   "source": [
    "# Convert the dataframe to a multidimensional xarray\n",
    "- Set the dataframes index using latitude, longitude and date\n",
    "- Drop the duplicate multi-index entries"
   ]
  },
  {
   "cell_type": "code",
   "execution_count": 4,
   "metadata": {},
   "outputs": [],
   "source": [
    "corona_locations_multi = corona_locations.head().set_index([\"Location_Lat\", \"Location_Lon\", \"DATE\"])\n",
    "corona_locations_multi = corona_locations_multi.loc[~corona_locations_multi.index.duplicated(keep=\"first\")]\n",
    "corona_locations_xarray = corona_locations_multi.to_xarray()"
   ]
  },
  {
   "cell_type": "markdown",
   "metadata": {},
   "source": [
    "# Save the xarray as a netcdf file"
   ]
  },
  {
   "cell_type": "code",
   "execution_count": 6,
   "metadata": {},
   "outputs": [
    {
     "ename": "AttributeError",
     "evalue": "module 'dask.base' has no attribute 'get_scheduler'",
     "output_type": "error",
     "traceback": [
      "\u001b[1;31m---------------------------------------------------------------------------\u001b[0m",
      "\u001b[1;31mAttributeError\u001b[0m                            Traceback (most recent call last)",
      "\u001b[1;32m<ipython-input-6-53cee13485ff>\u001b[0m in \u001b[0;36m<module>\u001b[1;34m()\u001b[0m\n\u001b[1;32m----> 1\u001b[1;33m \u001b[0mcorona_locations_xarray\u001b[0m\u001b[1;33m.\u001b[0m\u001b[0mto_netcdf\u001b[0m\u001b[1;33m(\u001b[0m\u001b[1;34m\"{}/corona_locations_{}.gkg.nc\"\u001b[0m\u001b[1;33m.\u001b[0m\u001b[0mformat\u001b[0m\u001b[1;33m(\u001b[0m\u001b[0mtempfile\u001b[0m\u001b[1;33m.\u001b[0m\u001b[0mgettempdir\u001b[0m\u001b[1;33m(\u001b[0m\u001b[1;33m)\u001b[0m\u001b[1;33m,\u001b[0m \u001b[0mdate\u001b[0m\u001b[1;33m.\u001b[0m\u001b[0mtoday\u001b[0m\u001b[1;33m(\u001b[0m\u001b[1;33m)\u001b[0m\u001b[1;33m.\u001b[0m\u001b[0mstrftime\u001b[0m\u001b[1;33m(\u001b[0m\u001b[1;34m\"%Y%m%d\"\u001b[0m\u001b[1;33m)\u001b[0m\u001b[1;33m,\u001b[0m \u001b[0mcompute\u001b[0m\u001b[1;33m=\u001b[0m\u001b[1;32mTrue\u001b[0m\u001b[1;33m)\u001b[0m\u001b[1;33m)\u001b[0m\u001b[1;33m\u001b[0m\u001b[0m\n\u001b[0m\u001b[0;32m      2\u001b[0m \u001b[1;33m\u001b[0m\u001b[0m\n\u001b[0;32m      3\u001b[0m \u001b[1;32mdel\u001b[0m \u001b[0mcorona_locations\u001b[0m\u001b[1;33m\u001b[0m\u001b[0m\n\u001b[0;32m      4\u001b[0m \u001b[1;32mdel\u001b[0m \u001b[0mcorona_locations_multi\u001b[0m\u001b[1;33m\u001b[0m\u001b[0m\n\u001b[0;32m      5\u001b[0m \u001b[1;32mdel\u001b[0m \u001b[0mcorona_locations_xarray\u001b[0m\u001b[1;33m\u001b[0m\u001b[0m\n",
      "\u001b[1;32m~\\AppData\\Roaming\\Python\\Python36\\site-packages\\xarray\\core\\dataset.py\u001b[0m in \u001b[0;36mto_netcdf\u001b[1;34m(self, path, mode, format, group, engine, encoding, unlimited_dims, compute, invalid_netcdf)\u001b[0m\n\u001b[0;32m   1543\u001b[0m             \u001b[0munlimited_dims\u001b[0m\u001b[1;33m=\u001b[0m\u001b[0munlimited_dims\u001b[0m\u001b[1;33m,\u001b[0m\u001b[1;33m\u001b[0m\u001b[0m\n\u001b[0;32m   1544\u001b[0m             \u001b[0mcompute\u001b[0m\u001b[1;33m=\u001b[0m\u001b[0mcompute\u001b[0m\u001b[1;33m,\u001b[0m\u001b[1;33m\u001b[0m\u001b[0m\n\u001b[1;32m-> 1545\u001b[1;33m             \u001b[0minvalid_netcdf\u001b[0m\u001b[1;33m=\u001b[0m\u001b[0minvalid_netcdf\u001b[0m\u001b[1;33m,\u001b[0m\u001b[1;33m\u001b[0m\u001b[0m\n\u001b[0m\u001b[0;32m   1546\u001b[0m         )\n\u001b[0;32m   1547\u001b[0m \u001b[1;33m\u001b[0m\u001b[0m\n",
      "\u001b[1;32m~\\AppData\\Roaming\\Python\\Python36\\site-packages\\xarray\\backends\\api.py\u001b[0m in \u001b[0;36mto_netcdf\u001b[1;34m(dataset, path_or_file, mode, format, group, engine, encoding, unlimited_dims, compute, multifile, invalid_netcdf)\u001b[0m\n\u001b[0;32m   1049\u001b[0m \u001b[1;33m\u001b[0m\u001b[0m\n\u001b[0;32m   1050\u001b[0m     \u001b[1;31m# handle scheduler specific logic\u001b[0m\u001b[1;33m\u001b[0m\u001b[1;33m\u001b[0m\u001b[0m\n\u001b[1;32m-> 1051\u001b[1;33m     \u001b[0mscheduler\u001b[0m \u001b[1;33m=\u001b[0m \u001b[0m_get_scheduler\u001b[0m\u001b[1;33m(\u001b[0m\u001b[1;33m)\u001b[0m\u001b[1;33m\u001b[0m\u001b[0m\n\u001b[0m\u001b[0;32m   1052\u001b[0m     \u001b[0mhave_chunks\u001b[0m \u001b[1;33m=\u001b[0m \u001b[0many\u001b[0m\u001b[1;33m(\u001b[0m\u001b[0mv\u001b[0m\u001b[1;33m.\u001b[0m\u001b[0mchunks\u001b[0m \u001b[1;32mfor\u001b[0m \u001b[0mv\u001b[0m \u001b[1;32min\u001b[0m \u001b[0mdataset\u001b[0m\u001b[1;33m.\u001b[0m\u001b[0mvariables\u001b[0m\u001b[1;33m.\u001b[0m\u001b[0mvalues\u001b[0m\u001b[1;33m(\u001b[0m\u001b[1;33m)\u001b[0m\u001b[1;33m)\u001b[0m\u001b[1;33m\u001b[0m\u001b[0m\n\u001b[0;32m   1053\u001b[0m \u001b[1;33m\u001b[0m\u001b[0m\n",
      "\u001b[1;32m~\\AppData\\Roaming\\Python\\Python36\\site-packages\\xarray\\backends\\locks.py\u001b[0m in \u001b[0;36m_get_scheduler\u001b[1;34m(get, collection)\u001b[0m\n\u001b[0;32m     77\u001b[0m         \u001b[1;32mreturn\u001b[0m \u001b[1;32mNone\u001b[0m\u001b[1;33m\u001b[0m\u001b[0m\n\u001b[0;32m     78\u001b[0m \u001b[1;33m\u001b[0m\u001b[0m\n\u001b[1;32m---> 79\u001b[1;33m     \u001b[0mactual_get\u001b[0m \u001b[1;33m=\u001b[0m \u001b[0mdask\u001b[0m\u001b[1;33m.\u001b[0m\u001b[0mbase\u001b[0m\u001b[1;33m.\u001b[0m\u001b[0mget_scheduler\u001b[0m\u001b[1;33m(\u001b[0m\u001b[0mget\u001b[0m\u001b[1;33m,\u001b[0m \u001b[0mcollection\u001b[0m\u001b[1;33m)\u001b[0m\u001b[1;33m\u001b[0m\u001b[0m\n\u001b[0m\u001b[0;32m     80\u001b[0m \u001b[1;33m\u001b[0m\u001b[0m\n\u001b[0;32m     81\u001b[0m     \u001b[1;32mtry\u001b[0m\u001b[1;33m:\u001b[0m\u001b[1;33m\u001b[0m\u001b[0m\n",
      "\u001b[1;31mAttributeError\u001b[0m: module 'dask.base' has no attribute 'get_scheduler'"
     ]
    }
   ],
   "source": [
    "corona_locations_xarray.to_netcdf(\"{}/corona_locations_{}.gkg.nc\".format(tempfile.gettempdir(), date.today().strftime(\"%Y%m%d\"), compute=True))\n",
    "\n",
    "del corona_locations\n",
    "del corona_locations_multi\n",
    "del corona_locations_xarray"
   ]
  },
  {
   "cell_type": "code",
   "execution_count": null,
   "metadata": {},
   "outputs": [],
   "source": []
  }
 ],
 "metadata": {
  "kernelspec": {
   "display_name": "Python 3",
   "language": "python",
   "name": "python3"
  },
  "language_info": {
   "codemirror_mode": {
    "name": "ipython",
    "version": 3
   },
   "file_extension": ".py",
   "mimetype": "text/x-python",
   "name": "python",
   "nbconvert_exporter": "python",
   "pygments_lexer": "ipython3",
   "version": "3.6.4"
  }
 },
 "nbformat": 4,
 "nbformat_minor": 2
}
